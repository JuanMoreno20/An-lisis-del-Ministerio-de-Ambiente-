{
 "cells": [
  {
   "cell_type": "markdown",
   "metadata": {},
   "source": [
    "# Análisis de contratación pública en el Ministerio de ambiente y desarrollo sostenible de Colombia"
   ]
  },
  {
   "cell_type": "markdown",
   "metadata": {},
   "source": [
    "### Elaborado por Daniela Palencia y Juan David Moreno"
   ]
  },
  {
   "cell_type": "markdown",
   "metadata": {},
   "source": [
    "### Universidad Externado de Colombia"
   ]
  },
  {
   "cell_type": "markdown",
   "metadata": {},
   "source": [
    "### Seminario de Programación"
   ]
  },
  {
   "cell_type": "markdown",
   "metadata": {},
   "source": [
    "## Introducción \n",
    "\n",
    "La contratación pública representa un pilar esencial en el marco de la transparencia, eficiencia y rendición de cuentas en el ejercicio de las funciones gubernamentales. En el específico contexto del Ministerio de Ambiente y Desarrollo Sostenible de Colombia, la evaluación de la contratación pública se rige como una herramienta clave para analizar la gestión de recursos y asegurar el cumplimiento de objetivos en el ámbito ambiental y de desarrollo sostenible.\n",
    "\n",
    "Este análisis se lleva a cabo a partir de la información recopilada en la plataforma del SECOP II, que alberga los datos reportados por Colombia Compra Eficiente. La meticulosa selección de información extraída de esta base de datos busca proporcionar una visión exhaustiva de las características de la contratación efectuada por el Ministerio.\n",
    "\n",
    "Entre la información recolipada se encuentran aspectos cruciales como el estado y los valores asociados a los contratos, así como detalles específicos como el destino del gasto, los días adicionados, el nombre del representante legal y el presupuesto general de la nación asignado. Esta amplia gama de información se presenta como una ventana detallada que permitirá evaluar en profundidad tanto los aspectos financieros como los legales asociados a la ejecución de contratos.\n",
    "\n",
    "\n",
    "Objetivo General:\n",
    "Evaluar de manera integral la contratación pública realizada por el Ministerio de Ambiente y Desarrollo Sostenible de Colombia, utilizando la información recopilada en la plataforma del SECOP II, con el propósito de identificar patrones, tendencias y áreas de mejora, y así fortalecer la transparencia, eficiencia y rendición de cuentas en la ejecución de sus funciones gubernamentales en el ámbito ambiental y de desarrollo sostenible.\n",
    "\n",
    "Objetivos Específicos:\n",
    "\n",
    "Analizar el estado actual de los contratos ejecutados por el Ministerio, evaluando su cumplimiento, vigencia y posibles impactos en el logro de los objetivos ambientales y de desarrollo sostenible.\n",
    "\n",
    "Examinar los valores asociados a los contratos, identificando posibles desviaciones presupuestarias y proponiendo medidas correctivas para asegurar el uso eficiente de los recursos públicos.\n",
    "\n",
    "Investigar el destino del gasto en los contratos, destacando áreas prioritarias y asegurando que los recursos se asignen de manera coherente con los objetivos estratégicos del Ministerio.\n",
    "\n",
    "Analizar los días adicionados en los contratos, identificando posibles demoras o extensiones y proponiendo estrategias para optimizar los plazos de ejecución.\n",
    "\n",
    "Identificar al representante legal asociado a cada contrato, evaluando su papel en la toma de decisiones y asegurando la transparencia en la designación de responsabilidades.\n",
    "\n",
    "Examinar el presupuesto general de la nación asignado al Ministerio, garantizando su alineación con las prioridades ambientales y de desarrollo sostenible del país.\n",
    "\n",
    "Proponer recomendaciones fundamentadas para fortalecer y optimizar los procesos de contratación del Ministerio, con el objetivo de mejorar la eficiencia, transparencia y rendición de cuentas en la gestión de recursos públicos."
   ]
  },
  {
   "cell_type": "markdown",
   "metadata": {},
   "source": [
    "En primer lugar se cargan los paquetes requeridos para el análisis:"
   ]
  },
  {
   "cell_type": "code",
   "execution_count": 1,
   "metadata": {},
   "outputs": [],
   "source": [
    "#pip install matplotlib seaborn\n",
    "#pip install statsmodels"
   ]
  },
  {
   "cell_type": "code",
   "execution_count": 2,
   "metadata": {},
   "outputs": [],
   "source": [
    "#Librerias\n",
    "import pandas as pd\n",
    "import matplotlib.pyplot as plt\n",
    "import seaborn as sns\n",
    "from sodapy import Socrata\n",
    "import numpy as np\n",
    "from scipy.stats import f_oneway\n"
   ]
  },
  {
   "cell_type": "markdown",
   "metadata": {},
   "source": [
    "A continuación, se utiliza la biblioteca Sodapy en Python para acceder a datos abiertos en www.datos.gov.co. Inicia sesión en la plataforma, especifica el conjunto de datos deseado (\"jbjy-vk9h\"), y se realiza una consulta que selecciona registros con fecha de firma posterior a '2020-01-01' y NIT de la entidad igual a 830115395. Los datos se obtienen y se transforman en un DataFrame de Pandas para su análisis posterior en Python."
   ]
  },
  {
   "cell_type": "code",
   "execution_count": 3,
   "metadata": {},
   "outputs": [
    {
     "data": {
      "text/html": [
       "<div>\n",
       "<style scoped>\n",
       "    .dataframe tbody tr th:only-of-type {\n",
       "        vertical-align: middle;\n",
       "    }\n",
       "\n",
       "    .dataframe tbody tr th {\n",
       "        vertical-align: top;\n",
       "    }\n",
       "\n",
       "    .dataframe thead th {\n",
       "        text-align: right;\n",
       "    }\n",
       "</style>\n",
       "<table border=\"1\" class=\"dataframe\">\n",
       "  <thead>\n",
       "    <tr style=\"text-align: right;\">\n",
       "      <th></th>\n",
       "      <th>nombre_entidad</th>\n",
       "      <th>nit_entidad</th>\n",
       "      <th>departamento</th>\n",
       "      <th>ciudad</th>\n",
       "      <th>localizaci_n</th>\n",
       "      <th>orden</th>\n",
       "      <th>sector</th>\n",
       "      <th>rama</th>\n",
       "      <th>entidad_centralizada</th>\n",
       "      <th>proceso_de_compra</th>\n",
       "      <th>...</th>\n",
       "      <th>recursos_de_credito</th>\n",
       "      <th>recursos_propios</th>\n",
       "      <th>codigo_entidad</th>\n",
       "      <th>codigo_proveedor</th>\n",
       "      <th>objeto_del_contrato</th>\n",
       "      <th>fecha_de_inicio_de_ejecucion</th>\n",
       "      <th>fecha_de_fin_de_ejecucion</th>\n",
       "      <th>fecha_inicio_liquidacion</th>\n",
       "      <th>fecha_fin_liquidacion</th>\n",
       "      <th>ultima_actualizacion</th>\n",
       "    </tr>\n",
       "  </thead>\n",
       "  <tbody>\n",
       "    <tr>\n",
       "      <th>0</th>\n",
       "      <td>MINISTERIO DE AMBIENTE Y DESARROLLO SOSTENIBLE</td>\n",
       "      <td>830115395</td>\n",
       "      <td>Distrito Capital de Bogotá</td>\n",
       "      <td>Bogotá</td>\n",
       "      <td>Colombia, Bogotá,  Bogotá</td>\n",
       "      <td>Nacional</td>\n",
       "      <td>Ambiente y Desarrollo Sostenible</td>\n",
       "      <td>Corporación Autónoma</td>\n",
       "      <td>Centralizada</td>\n",
       "      <td>CO1.BDOS.2765800</td>\n",
       "      <td>...</td>\n",
       "      <td>0</td>\n",
       "      <td>0</td>\n",
       "      <td>700209018</td>\n",
       "      <td>716967732</td>\n",
       "      <td>Prestación de servicios profesionales a la Dir...</td>\n",
       "      <td>NaN</td>\n",
       "      <td>NaN</td>\n",
       "      <td>NaN</td>\n",
       "      <td>NaN</td>\n",
       "      <td>NaN</td>\n",
       "    </tr>\n",
       "    <tr>\n",
       "      <th>1</th>\n",
       "      <td>MINISTERIO DE AMBIENTE Y DESARROLLO SOSTENIBLE</td>\n",
       "      <td>830115395</td>\n",
       "      <td>Distrito Capital de Bogotá</td>\n",
       "      <td>Bogotá</td>\n",
       "      <td>Colombia, Bogotá,  Bogotá</td>\n",
       "      <td>Nacional</td>\n",
       "      <td>Ambiente y Desarrollo Sostenible</td>\n",
       "      <td>Corporación Autónoma</td>\n",
       "      <td>Centralizada</td>\n",
       "      <td>CO1.BDOS.4075407</td>\n",
       "      <td>...</td>\n",
       "      <td>0</td>\n",
       "      <td>0</td>\n",
       "      <td>700209018</td>\n",
       "      <td>702959230</td>\n",
       "      <td>Prestar los servicios profesionales a la Ofici...</td>\n",
       "      <td>NaN</td>\n",
       "      <td>NaN</td>\n",
       "      <td>NaN</td>\n",
       "      <td>NaN</td>\n",
       "      <td>NaN</td>\n",
       "    </tr>\n",
       "    <tr>\n",
       "      <th>2</th>\n",
       "      <td>MINISTERIO DE AMBIENTE Y DESARROLLO SOSTENIBLE</td>\n",
       "      <td>830115395</td>\n",
       "      <td>Distrito Capital de Bogotá</td>\n",
       "      <td>Bogotá</td>\n",
       "      <td>Colombia, Bogotá,  Bogotá</td>\n",
       "      <td>Nacional</td>\n",
       "      <td>Ambiente y Desarrollo Sostenible</td>\n",
       "      <td>Corporación Autónoma</td>\n",
       "      <td>Centralizada</td>\n",
       "      <td>CO1.BDOS.2182811</td>\n",
       "      <td>...</td>\n",
       "      <td>0</td>\n",
       "      <td>0</td>\n",
       "      <td>700209018</td>\n",
       "      <td>712386309</td>\n",
       "      <td>Prestación de servicios profesionales para apo...</td>\n",
       "      <td>NaN</td>\n",
       "      <td>NaN</td>\n",
       "      <td>NaN</td>\n",
       "      <td>NaN</td>\n",
       "      <td>NaN</td>\n",
       "    </tr>\n",
       "    <tr>\n",
       "      <th>3</th>\n",
       "      <td>MINISTERIO DE AMBIENTE Y DESARROLLO SOSTENIBLE</td>\n",
       "      <td>830115395</td>\n",
       "      <td>Distrito Capital de Bogotá</td>\n",
       "      <td>Bogotá</td>\n",
       "      <td>Colombia, Bogotá,  Bogotá</td>\n",
       "      <td>Nacional</td>\n",
       "      <td>Ambiente y Desarrollo Sostenible</td>\n",
       "      <td>Corporación Autónoma</td>\n",
       "      <td>Centralizada</td>\n",
       "      <td>CO1.BDOS.2578264</td>\n",
       "      <td>...</td>\n",
       "      <td>0</td>\n",
       "      <td>0</td>\n",
       "      <td>700209018</td>\n",
       "      <td>714443017</td>\n",
       "      <td>Prestación de servicios profesionales a la Ofi...</td>\n",
       "      <td>NaN</td>\n",
       "      <td>NaN</td>\n",
       "      <td>NaN</td>\n",
       "      <td>NaN</td>\n",
       "      <td>NaN</td>\n",
       "    </tr>\n",
       "    <tr>\n",
       "      <th>4</th>\n",
       "      <td>MINISTERIO DE AMBIENTE Y DESARROLLO SOSTENIBLE</td>\n",
       "      <td>830115395</td>\n",
       "      <td>Distrito Capital de Bogotá</td>\n",
       "      <td>Bogotá</td>\n",
       "      <td>Colombia, Bogotá,  Bogotá</td>\n",
       "      <td>Nacional</td>\n",
       "      <td>Ambiente y Desarrollo Sostenible</td>\n",
       "      <td>Corporación Autónoma</td>\n",
       "      <td>Centralizada</td>\n",
       "      <td>CO1.BDOS.1529209</td>\n",
       "      <td>...</td>\n",
       "      <td>0</td>\n",
       "      <td>2517869640</td>\n",
       "      <td>700209018</td>\n",
       "      <td>703382077</td>\n",
       "      <td>Aunar esfuerzos técnicos, administrativos y fi...</td>\n",
       "      <td>NaN</td>\n",
       "      <td>NaN</td>\n",
       "      <td>NaN</td>\n",
       "      <td>NaN</td>\n",
       "      <td>NaN</td>\n",
       "    </tr>\n",
       "    <tr>\n",
       "      <th>...</th>\n",
       "      <td>...</td>\n",
       "      <td>...</td>\n",
       "      <td>...</td>\n",
       "      <td>...</td>\n",
       "      <td>...</td>\n",
       "      <td>...</td>\n",
       "      <td>...</td>\n",
       "      <td>...</td>\n",
       "      <td>...</td>\n",
       "      <td>...</td>\n",
       "      <td>...</td>\n",
       "      <td>...</td>\n",
       "      <td>...</td>\n",
       "      <td>...</td>\n",
       "      <td>...</td>\n",
       "      <td>...</td>\n",
       "      <td>...</td>\n",
       "      <td>...</td>\n",
       "      <td>...</td>\n",
       "      <td>...</td>\n",
       "      <td>...</td>\n",
       "    </tr>\n",
       "    <tr>\n",
       "      <th>4146</th>\n",
       "      <td>MINISTERIO DE AMBIENTE Y DESARROLLO SOSTENIBLE</td>\n",
       "      <td>830115395</td>\n",
       "      <td>Distrito Capital de Bogotá</td>\n",
       "      <td>Bogotá</td>\n",
       "      <td>Colombia, Bogotá,  Bogotá</td>\n",
       "      <td>Nacional</td>\n",
       "      <td>Ambiente y Desarrollo Sostenible</td>\n",
       "      <td>Corporación Autónoma</td>\n",
       "      <td>Centralizada</td>\n",
       "      <td>CO1.BDOS.2525299</td>\n",
       "      <td>...</td>\n",
       "      <td>0</td>\n",
       "      <td>0</td>\n",
       "      <td>700209018</td>\n",
       "      <td>708736426</td>\n",
       "      <td>Prestación de servicios profesionales a la Dir...</td>\n",
       "      <td>NaN</td>\n",
       "      <td>NaN</td>\n",
       "      <td>NaN</td>\n",
       "      <td>NaN</td>\n",
       "      <td>NaN</td>\n",
       "    </tr>\n",
       "    <tr>\n",
       "      <th>4147</th>\n",
       "      <td>MINISTERIO DE AMBIENTE Y DESARROLLO SOSTENIBLE</td>\n",
       "      <td>830115395</td>\n",
       "      <td>Distrito Capital de Bogotá</td>\n",
       "      <td>Bogotá</td>\n",
       "      <td>Colombia, Bogotá,  Bogotá</td>\n",
       "      <td>Nacional</td>\n",
       "      <td>Ambiente y Desarrollo Sostenible</td>\n",
       "      <td>Corporación Autónoma</td>\n",
       "      <td>Centralizada</td>\n",
       "      <td>CO1.BDOS.3855809</td>\n",
       "      <td>...</td>\n",
       "      <td>0</td>\n",
       "      <td>0</td>\n",
       "      <td>700209018</td>\n",
       "      <td>706652088</td>\n",
       "      <td>Prestar servicios profesionales en el proceso ...</td>\n",
       "      <td>NaN</td>\n",
       "      <td>NaN</td>\n",
       "      <td>NaN</td>\n",
       "      <td>NaN</td>\n",
       "      <td>NaN</td>\n",
       "    </tr>\n",
       "    <tr>\n",
       "      <th>4148</th>\n",
       "      <td>MINISTERIO DE AMBIENTE Y DESARROLLO SOSTENIBLE</td>\n",
       "      <td>830115395</td>\n",
       "      <td>Distrito Capital de Bogotá</td>\n",
       "      <td>Bogotá</td>\n",
       "      <td>Colombia, Bogotá,  Bogotá</td>\n",
       "      <td>Nacional</td>\n",
       "      <td>Ambiente y Desarrollo Sostenible</td>\n",
       "      <td>Corporación Autónoma</td>\n",
       "      <td>Centralizada</td>\n",
       "      <td>CO1.BDOS.4271532</td>\n",
       "      <td>...</td>\n",
       "      <td>0</td>\n",
       "      <td>0</td>\n",
       "      <td>700209018</td>\n",
       "      <td>721522266</td>\n",
       "      <td>Prestación de servicios profesionales a la Dir...</td>\n",
       "      <td>NaN</td>\n",
       "      <td>NaN</td>\n",
       "      <td>NaN</td>\n",
       "      <td>NaN</td>\n",
       "      <td>NaN</td>\n",
       "    </tr>\n",
       "    <tr>\n",
       "      <th>4149</th>\n",
       "      <td>MINISTERIO DE AMBIENTE Y DESARROLLO SOSTENIBLE</td>\n",
       "      <td>830115395</td>\n",
       "      <td>Distrito Capital de Bogotá</td>\n",
       "      <td>Bogotá</td>\n",
       "      <td>Colombia, Bogotá,  Bogotá</td>\n",
       "      <td>Nacional</td>\n",
       "      <td>Ambiente y Desarrollo Sostenible</td>\n",
       "      <td>Corporación Autónoma</td>\n",
       "      <td>Centralizada</td>\n",
       "      <td>CO1.BDOS.3389915</td>\n",
       "      <td>...</td>\n",
       "      <td>0</td>\n",
       "      <td>0</td>\n",
       "      <td>700209018</td>\n",
       "      <td>706637709</td>\n",
       "      <td>Prestar servicios de Apoyo a la Gestión al Gru...</td>\n",
       "      <td>NaN</td>\n",
       "      <td>NaN</td>\n",
       "      <td>NaN</td>\n",
       "      <td>NaN</td>\n",
       "      <td>NaN</td>\n",
       "    </tr>\n",
       "    <tr>\n",
       "      <th>4150</th>\n",
       "      <td>MINISTERIO DE AMBIENTE Y DESARROLLO SOSTENIBLE</td>\n",
       "      <td>830115395</td>\n",
       "      <td>Distrito Capital de Bogotá</td>\n",
       "      <td>Bogotá</td>\n",
       "      <td>Colombia, Bogotá,  Bogotá</td>\n",
       "      <td>Nacional</td>\n",
       "      <td>Ambiente y Desarrollo Sostenible</td>\n",
       "      <td>Corporación Autónoma</td>\n",
       "      <td>Centralizada</td>\n",
       "      <td>CO1.BDOS.2200656</td>\n",
       "      <td>...</td>\n",
       "      <td>0</td>\n",
       "      <td>0</td>\n",
       "      <td>700209018</td>\n",
       "      <td>713377406</td>\n",
       "      <td>Prestación de servicios profesionales a la Dir...</td>\n",
       "      <td>NaN</td>\n",
       "      <td>NaN</td>\n",
       "      <td>NaN</td>\n",
       "      <td>NaN</td>\n",
       "      <td>NaN</td>\n",
       "    </tr>\n",
       "  </tbody>\n",
       "</table>\n",
       "<p>4151 rows × 72 columns</p>\n",
       "</div>"
      ],
      "text/plain": [
       "                                      nombre_entidad nit_entidad  \\\n",
       "0     MINISTERIO DE AMBIENTE Y DESARROLLO SOSTENIBLE   830115395   \n",
       "1     MINISTERIO DE AMBIENTE Y DESARROLLO SOSTENIBLE   830115395   \n",
       "2     MINISTERIO DE AMBIENTE Y DESARROLLO SOSTENIBLE   830115395   \n",
       "3     MINISTERIO DE AMBIENTE Y DESARROLLO SOSTENIBLE   830115395   \n",
       "4     MINISTERIO DE AMBIENTE Y DESARROLLO SOSTENIBLE   830115395   \n",
       "...                                              ...         ...   \n",
       "4146  MINISTERIO DE AMBIENTE Y DESARROLLO SOSTENIBLE   830115395   \n",
       "4147  MINISTERIO DE AMBIENTE Y DESARROLLO SOSTENIBLE   830115395   \n",
       "4148  MINISTERIO DE AMBIENTE Y DESARROLLO SOSTENIBLE   830115395   \n",
       "4149  MINISTERIO DE AMBIENTE Y DESARROLLO SOSTENIBLE   830115395   \n",
       "4150  MINISTERIO DE AMBIENTE Y DESARROLLO SOSTENIBLE   830115395   \n",
       "\n",
       "                    departamento  ciudad               localizaci_n     orden  \\\n",
       "0     Distrito Capital de Bogotá  Bogotá  Colombia, Bogotá,  Bogotá  Nacional   \n",
       "1     Distrito Capital de Bogotá  Bogotá  Colombia, Bogotá,  Bogotá  Nacional   \n",
       "2     Distrito Capital de Bogotá  Bogotá  Colombia, Bogotá,  Bogotá  Nacional   \n",
       "3     Distrito Capital de Bogotá  Bogotá  Colombia, Bogotá,  Bogotá  Nacional   \n",
       "4     Distrito Capital de Bogotá  Bogotá  Colombia, Bogotá,  Bogotá  Nacional   \n",
       "...                          ...     ...                        ...       ...   \n",
       "4146  Distrito Capital de Bogotá  Bogotá  Colombia, Bogotá,  Bogotá  Nacional   \n",
       "4147  Distrito Capital de Bogotá  Bogotá  Colombia, Bogotá,  Bogotá  Nacional   \n",
       "4148  Distrito Capital de Bogotá  Bogotá  Colombia, Bogotá,  Bogotá  Nacional   \n",
       "4149  Distrito Capital de Bogotá  Bogotá  Colombia, Bogotá,  Bogotá  Nacional   \n",
       "4150  Distrito Capital de Bogotá  Bogotá  Colombia, Bogotá,  Bogotá  Nacional   \n",
       "\n",
       "                                sector                  rama  \\\n",
       "0     Ambiente y Desarrollo Sostenible  Corporación Autónoma   \n",
       "1     Ambiente y Desarrollo Sostenible  Corporación Autónoma   \n",
       "2     Ambiente y Desarrollo Sostenible  Corporación Autónoma   \n",
       "3     Ambiente y Desarrollo Sostenible  Corporación Autónoma   \n",
       "4     Ambiente y Desarrollo Sostenible  Corporación Autónoma   \n",
       "...                                ...                   ...   \n",
       "4146  Ambiente y Desarrollo Sostenible  Corporación Autónoma   \n",
       "4147  Ambiente y Desarrollo Sostenible  Corporación Autónoma   \n",
       "4148  Ambiente y Desarrollo Sostenible  Corporación Autónoma   \n",
       "4149  Ambiente y Desarrollo Sostenible  Corporación Autónoma   \n",
       "4150  Ambiente y Desarrollo Sostenible  Corporación Autónoma   \n",
       "\n",
       "     entidad_centralizada proceso_de_compra  ... recursos_de_credito  \\\n",
       "0            Centralizada  CO1.BDOS.2765800  ...                   0   \n",
       "1            Centralizada  CO1.BDOS.4075407  ...                   0   \n",
       "2            Centralizada  CO1.BDOS.2182811  ...                   0   \n",
       "3            Centralizada  CO1.BDOS.2578264  ...                   0   \n",
       "4            Centralizada  CO1.BDOS.1529209  ...                   0   \n",
       "...                   ...               ...  ...                 ...   \n",
       "4146         Centralizada  CO1.BDOS.2525299  ...                   0   \n",
       "4147         Centralizada  CO1.BDOS.3855809  ...                   0   \n",
       "4148         Centralizada  CO1.BDOS.4271532  ...                   0   \n",
       "4149         Centralizada  CO1.BDOS.3389915  ...                   0   \n",
       "4150         Centralizada  CO1.BDOS.2200656  ...                   0   \n",
       "\n",
       "     recursos_propios codigo_entidad codigo_proveedor  \\\n",
       "0                   0      700209018        716967732   \n",
       "1                   0      700209018        702959230   \n",
       "2                   0      700209018        712386309   \n",
       "3                   0      700209018        714443017   \n",
       "4          2517869640      700209018        703382077   \n",
       "...               ...            ...              ...   \n",
       "4146                0      700209018        708736426   \n",
       "4147                0      700209018        706652088   \n",
       "4148                0      700209018        721522266   \n",
       "4149                0      700209018        706637709   \n",
       "4150                0      700209018        713377406   \n",
       "\n",
       "                                    objeto_del_contrato  \\\n",
       "0     Prestación de servicios profesionales a la Dir...   \n",
       "1     Prestar los servicios profesionales a la Ofici...   \n",
       "2     Prestación de servicios profesionales para apo...   \n",
       "3     Prestación de servicios profesionales a la Ofi...   \n",
       "4     Aunar esfuerzos técnicos, administrativos y fi...   \n",
       "...                                                 ...   \n",
       "4146  Prestación de servicios profesionales a la Dir...   \n",
       "4147  Prestar servicios profesionales en el proceso ...   \n",
       "4148  Prestación de servicios profesionales a la Dir...   \n",
       "4149  Prestar servicios de Apoyo a la Gestión al Gru...   \n",
       "4150  Prestación de servicios profesionales a la Dir...   \n",
       "\n",
       "     fecha_de_inicio_de_ejecucion fecha_de_fin_de_ejecucion  \\\n",
       "0                             NaN                       NaN   \n",
       "1                             NaN                       NaN   \n",
       "2                             NaN                       NaN   \n",
       "3                             NaN                       NaN   \n",
       "4                             NaN                       NaN   \n",
       "...                           ...                       ...   \n",
       "4146                          NaN                       NaN   \n",
       "4147                          NaN                       NaN   \n",
       "4148                          NaN                       NaN   \n",
       "4149                          NaN                       NaN   \n",
       "4150                          NaN                       NaN   \n",
       "\n",
       "     fecha_inicio_liquidacion fecha_fin_liquidacion ultima_actualizacion  \n",
       "0                         NaN                   NaN                  NaN  \n",
       "1                         NaN                   NaN                  NaN  \n",
       "2                         NaN                   NaN                  NaN  \n",
       "3                         NaN                   NaN                  NaN  \n",
       "4                         NaN                   NaN                  NaN  \n",
       "...                       ...                   ...                  ...  \n",
       "4146                      NaN                   NaN                  NaN  \n",
       "4147                      NaN                   NaN                  NaN  \n",
       "4148                      NaN                   NaN                  NaN  \n",
       "4149                      NaN                   NaN                  NaN  \n",
       "4150                      NaN                   NaN                  NaN  \n",
       "\n",
       "[4151 rows x 72 columns]"
      ]
     },
     "execution_count": 3,
     "metadata": {},
     "output_type": "execute_result"
    }
   ],
   "source": [
    "client = Socrata(\"www.datos.gov.co\",\n",
    "                 \"Aorz3WwCwZXp3wMkpD09SiMLR\",## Cambie token_aqui por el token recien creado\n",
    "                 username=\"daniela02.palencia@gmail.com\", ## Correo electrónico de ingreso a la plataforma de datos abiertos\n",
    "                 password=\"Sony1836\")## Contraseña de ingreso a la plataforma de datos abiertos\n",
    "\n",
    "\n",
    "\n",
    "socrata_dataset_identifier = \"jbjy-vk9h\"\n",
    "\n",
    "Query = \"\"\"\n",
    "select\n",
    "    *\n",
    "where\n",
    "    fecha_de_firma >= '2020-01-01'\n",
    "    and\n",
    "    nit_entidad=830115395\n",
    "limit\n",
    "14000000\n",
    "\"\"\"\n",
    "\n",
    "contratos_2020 = client.get(socrata_dataset_identifier, content_type=\"json\", query=Query)\n",
    "\n",
    "secopII_2020_DF = pd.DataFrame(pd.DataFrame.from_dict(contratos_2020))\n",
    "secopII_2020_DF"
   ]
  },
  {
   "cell_type": "markdown",
   "metadata": {},
   "source": [
    "Ahora se guarda el DataFrame secopII_2020_DF como un archivo CSV con el nombre \"contratos2020.csv\" en el directorio \"../../Datos/Raw/\". Además, estos datos son posteriormente leídos y cargados en un nuevo DataFrame llamado contratos_min_ambiente. Este proceso de guardado y carga proporciona una manera eficiente de preservar y trabajar con los datos obtenidos en futuras etapas de análisis o procesamiento."
   ]
  },
  {
   "cell_type": "code",
   "execution_count": 4,
   "metadata": {},
   "outputs": [],
   "source": [
    "secopII_2020_DF.to_csv('../../Datos/Raw/contratos2020.csv')\n",
    "contratos_min_ambiente=pd.read_csv('../../Datos/Raw/contratos2020.csv')"
   ]
  },
  {
   "cell_type": "markdown",
   "metadata": {},
   "source": [
    "Para iniciar el análisis, es fundamental obtener una comprensión detallada del contenido de la base de datos que será examinada. Esto implica la necesidad de conocer el nombre de las columnas que conforman dicha base de datos. "
   ]
  },
  {
   "cell_type": "code",
   "execution_count": 5,
   "metadata": {},
   "outputs": [
    {
     "name": "stdout",
     "output_type": "stream",
     "text": [
      "Index(['Unnamed: 0', 'nombre_entidad', 'nit_entidad', 'departamento', 'ciudad',\n",
      "       'localizaci_n', 'orden', 'sector', 'rama', 'entidad_centralizada',\n",
      "       'proceso_de_compra', 'id_contrato', 'referencia_del_contrato',\n",
      "       'estado_contrato', 'codigo_de_categoria_principal',\n",
      "       'descripcion_del_proceso', 'tipo_de_contrato',\n",
      "       'modalidad_de_contratacion', 'justificacion_modalidad_de',\n",
      "       'fecha_de_firma', 'fecha_de_inicio_del_contrato',\n",
      "       'fecha_de_fin_del_contrato', 'condiciones_de_entrega',\n",
      "       'tipodocproveedor', 'documento_proveedor', 'proveedor_adjudicado',\n",
      "       'es_grupo', 'es_pyme', 'habilita_pago_adelantado', 'liquidaci_n',\n",
      "       'obligaci_n_ambiental', 'obligaciones_postconsumo', 'reversion',\n",
      "       'origen_de_los_recursos', 'destino_gasto', 'valor_del_contrato',\n",
      "       'valor_de_pago_adelantado', 'valor_facturado',\n",
      "       'valor_pendiente_de_pago', 'valor_pagado', 'valor_amortizado',\n",
      "       'valor_pendiente_de', 'valor_pendiente_de_ejecucion', 'estado_bpin',\n",
      "       'c_digo_bpin', 'anno_bpin', 'saldo_cdp', 'saldo_vigencia',\n",
      "       'espostconflicto', 'dias_adicionados', 'puntos_del_acuerdo',\n",
      "       'pilares_del_acuerdo', 'urlproceso', 'nombre_representante_legal',\n",
      "       'nacionalidad_representante_legal', 'domicilio_representante_legal',\n",
      "       'tipo_de_identificaci_n_representante_legal',\n",
      "       'identificaci_n_representante_legal', 'g_nero_representante_legal',\n",
      "       'presupuesto_general_de_la_nacion_pgn',\n",
      "       'sistema_general_de_participaciones', 'sistema_general_de_regal_as',\n",
      "       'recursos_propios_alcald_as_gobernaciones_y_resguardos_ind_genas_',\n",
      "       'recursos_de_credito', 'recursos_propios', 'codigo_entidad',\n",
      "       'codigo_proveedor', 'objeto_del_contrato',\n",
      "       'fecha_de_inicio_de_ejecucion', 'fecha_de_fin_de_ejecucion',\n",
      "       'fecha_inicio_liquidacion', 'fecha_fin_liquidacion',\n",
      "       'ultima_actualizacion'],\n",
      "      dtype='object')\n",
      "Número de columnas: 73\n"
     ]
    }
   ],
   "source": [
    "print(contratos_min_ambiente.columns)\n",
    "\n",
    "print(\"Número de columnas:\", contratos_min_ambiente.shape[1])"
   ]
  },
  {
   "cell_type": "markdown",
   "metadata": {},
   "source": [
    "Con esta información se puede observar de mejor manera que columnas son de interés provechoso para el análisis y se procede a filtrar de mejor manera la base: "
   ]
  },
  {
   "cell_type": "markdown",
   "metadata": {},
   "source": [
    "Con esta información, es posible examinar de manera más detallada qué columnas resultan ser de interés y beneficio para el análisis en curso. Este conocimiento facilita un filtrado más preciso y eficiente de la base de datos, permitiendo concentrar la atención en los atributos específicos que contribuirán de manera significativa al análisis que se está llevando a cabo."
   ]
  },
  {
   "cell_type": "code",
   "execution_count": 6,
   "metadata": {},
   "outputs": [
    {
     "data": {
      "text/html": [
       "<div>\n",
       "<style scoped>\n",
       "    .dataframe tbody tr th:only-of-type {\n",
       "        vertical-align: middle;\n",
       "    }\n",
       "\n",
       "    .dataframe tbody tr th {\n",
       "        vertical-align: top;\n",
       "    }\n",
       "\n",
       "    .dataframe thead th {\n",
       "        text-align: right;\n",
       "    }\n",
       "</style>\n",
       "<table border=\"1\" class=\"dataframe\">\n",
       "  <thead>\n",
       "    <tr style=\"text-align: right;\">\n",
       "      <th></th>\n",
       "      <th>estado_contrato</th>\n",
       "      <th>tipo_de_contrato</th>\n",
       "      <th>modalidad_de_contratacion</th>\n",
       "      <th>justificacion_modalidad_de</th>\n",
       "      <th>fecha_de_firma</th>\n",
       "      <th>fecha_de_inicio_del_contrato</th>\n",
       "      <th>fecha_de_fin_del_contrato</th>\n",
       "      <th>tipodocproveedor</th>\n",
       "      <th>proveedor_adjudicado</th>\n",
       "      <th>es_grupo</th>\n",
       "      <th>es_pyme</th>\n",
       "      <th>habilita_pago_adelantado</th>\n",
       "      <th>liquidaci_n</th>\n",
       "      <th>obligaci_n_ambiental</th>\n",
       "      <th>obligaciones_postconsumo</th>\n",
       "      <th>reversion</th>\n",
       "      <th>origen_de_los_recursos</th>\n",
       "      <th>destino_gasto</th>\n",
       "      <th>valor_del_contrato</th>\n",
       "    </tr>\n",
       "  </thead>\n",
       "  <tbody>\n",
       "    <tr>\n",
       "      <th>0</th>\n",
       "      <td>En ejecución</td>\n",
       "      <td>Prestación de servicios</td>\n",
       "      <td>Contratación directa</td>\n",
       "      <td>Servicios profesionales y apoyo a la gestión</td>\n",
       "      <td>2022-01-29T00:00:00.000</td>\n",
       "      <td>2022-01-28T00:00:00.000</td>\n",
       "      <td>2022-11-29T00:00:00.000</td>\n",
       "      <td>Cédula de Ciudadanía</td>\n",
       "      <td>OSCAR ANDRES MARTINEZ</td>\n",
       "      <td>No</td>\n",
       "      <td>No</td>\n",
       "      <td>No</td>\n",
       "      <td>No</td>\n",
       "      <td>No</td>\n",
       "      <td>No</td>\n",
       "      <td>No</td>\n",
       "      <td>Distribuido</td>\n",
       "      <td>Inversión</td>\n",
       "      <td>90500000</td>\n",
       "    </tr>\n",
       "    <tr>\n",
       "      <th>1</th>\n",
       "      <td>cedido</td>\n",
       "      <td>Prestación de servicios</td>\n",
       "      <td>Contratación directa</td>\n",
       "      <td>Servicios profesionales y apoyo a la gestión</td>\n",
       "      <td>2023-03-01T00:00:00.000</td>\n",
       "      <td>2023-03-03T00:00:00.000</td>\n",
       "      <td>2023-12-28T00:00:00.000</td>\n",
       "      <td>Cédula de Ciudadanía</td>\n",
       "      <td>Juañ David Martinez Morales</td>\n",
       "      <td>No</td>\n",
       "      <td>No</td>\n",
       "      <td>No</td>\n",
       "      <td>No</td>\n",
       "      <td>No</td>\n",
       "      <td>No</td>\n",
       "      <td>No</td>\n",
       "      <td>Distribuido</td>\n",
       "      <td>Inversión</td>\n",
       "      <td>77946667</td>\n",
       "    </tr>\n",
       "    <tr>\n",
       "      <th>2</th>\n",
       "      <td>En ejecución</td>\n",
       "      <td>Prestación de servicios</td>\n",
       "      <td>Contratación directa</td>\n",
       "      <td>Servicios profesionales y apoyo a la gestión</td>\n",
       "      <td>2021-08-19T00:00:00.000</td>\n",
       "      <td>2021-08-20T00:00:00.000</td>\n",
       "      <td>2021-12-30T00:00:00.000</td>\n",
       "      <td>Cédula de Ciudadanía</td>\n",
       "      <td>María Catalina Pinedo Tous</td>\n",
       "      <td>No</td>\n",
       "      <td>No</td>\n",
       "      <td>No</td>\n",
       "      <td>No</td>\n",
       "      <td>No</td>\n",
       "      <td>No</td>\n",
       "      <td>No</td>\n",
       "      <td>Distribuido</td>\n",
       "      <td>Inversión</td>\n",
       "      <td>22533290</td>\n",
       "    </tr>\n",
       "    <tr>\n",
       "      <th>3</th>\n",
       "      <td>En ejecución</td>\n",
       "      <td>Prestación de servicios</td>\n",
       "      <td>Contratación directa</td>\n",
       "      <td>Servicios profesionales y apoyo a la gestión</td>\n",
       "      <td>2022-01-17T00:00:00.000</td>\n",
       "      <td>2022-01-19T00:00:00.000</td>\n",
       "      <td>2022-10-19T00:00:00.000</td>\n",
       "      <td>Cédula de Ciudadanía</td>\n",
       "      <td>Maira Alejandra Pérez Mojica</td>\n",
       "      <td>No</td>\n",
       "      <td>No</td>\n",
       "      <td>No</td>\n",
       "      <td>No</td>\n",
       "      <td>No</td>\n",
       "      <td>No</td>\n",
       "      <td>No</td>\n",
       "      <td>Distribuido</td>\n",
       "      <td>Inversión</td>\n",
       "      <td>49168080</td>\n",
       "    </tr>\n",
       "    <tr>\n",
       "      <th>4</th>\n",
       "      <td>Modificado</td>\n",
       "      <td>Otro</td>\n",
       "      <td>Contratación directa</td>\n",
       "      <td>Contratos o convenios Interadministrativos (va...</td>\n",
       "      <td>2020-11-01T00:00:00.000</td>\n",
       "      <td>2020-11-03T00:00:00.000</td>\n",
       "      <td>2023-01-01T00:00:00.000</td>\n",
       "      <td>No Definido</td>\n",
       "      <td>PROGRAMA DE LAS NACIONES UNIDAS PARA EL DESARR...</td>\n",
       "      <td>No</td>\n",
       "      <td>No</td>\n",
       "      <td>No</td>\n",
       "      <td>No</td>\n",
       "      <td>No</td>\n",
       "      <td>No</td>\n",
       "      <td>No</td>\n",
       "      <td>Distribuido</td>\n",
       "      <td>Inversión</td>\n",
       "      <td>4817869640</td>\n",
       "    </tr>\n",
       "    <tr>\n",
       "      <th>...</th>\n",
       "      <td>...</td>\n",
       "      <td>...</td>\n",
       "      <td>...</td>\n",
       "      <td>...</td>\n",
       "      <td>...</td>\n",
       "      <td>...</td>\n",
       "      <td>...</td>\n",
       "      <td>...</td>\n",
       "      <td>...</td>\n",
       "      <td>...</td>\n",
       "      <td>...</td>\n",
       "      <td>...</td>\n",
       "      <td>...</td>\n",
       "      <td>...</td>\n",
       "      <td>...</td>\n",
       "      <td>...</td>\n",
       "      <td>...</td>\n",
       "      <td>...</td>\n",
       "      <td>...</td>\n",
       "    </tr>\n",
       "    <tr>\n",
       "      <th>4146</th>\n",
       "      <td>En ejecución</td>\n",
       "      <td>Prestación de servicios</td>\n",
       "      <td>Contratación directa</td>\n",
       "      <td>Servicios profesionales y apoyo a la gestión</td>\n",
       "      <td>2022-01-13T00:00:00.000</td>\n",
       "      <td>2022-01-14T00:00:00.000</td>\n",
       "      <td>2022-12-15T00:00:00.000</td>\n",
       "      <td>Cédula de Ciudadanía</td>\n",
       "      <td>Yina Marcela Carrera Rodríguez</td>\n",
       "      <td>No</td>\n",
       "      <td>No</td>\n",
       "      <td>No</td>\n",
       "      <td>No</td>\n",
       "      <td>No</td>\n",
       "      <td>No</td>\n",
       "      <td>No</td>\n",
       "      <td>Distribuido</td>\n",
       "      <td>Inversión</td>\n",
       "      <td>110000000</td>\n",
       "    </tr>\n",
       "    <tr>\n",
       "      <th>4147</th>\n",
       "      <td>En ejecución</td>\n",
       "      <td>Prestación de servicios</td>\n",
       "      <td>Contratación directa</td>\n",
       "      <td>Servicios profesionales y apoyo a la gestión</td>\n",
       "      <td>2023-01-28T00:00:00.000</td>\n",
       "      <td>2023-02-02T00:00:00.000</td>\n",
       "      <td>2023-06-01T00:00:00.000</td>\n",
       "      <td>Cédula de Ciudadanía</td>\n",
       "      <td>DIEGO MAURICIO SARMIENTO-PEREZ TOLEDO</td>\n",
       "      <td>No</td>\n",
       "      <td>No</td>\n",
       "      <td>No</td>\n",
       "      <td>No</td>\n",
       "      <td>No</td>\n",
       "      <td>No</td>\n",
       "      <td>No</td>\n",
       "      <td>Distribuido</td>\n",
       "      <td>Inversión</td>\n",
       "      <td>23500000</td>\n",
       "    </tr>\n",
       "    <tr>\n",
       "      <th>4148</th>\n",
       "      <td>En ejecución</td>\n",
       "      <td>Prestación de servicios</td>\n",
       "      <td>Contratación directa</td>\n",
       "      <td>Servicios profesionales y apoyo a la gestión</td>\n",
       "      <td>2023-04-11T00:00:00.000</td>\n",
       "      <td>2023-04-12T00:00:00.000</td>\n",
       "      <td>2023-12-27T00:00:00.000</td>\n",
       "      <td>Cédula de Ciudadanía</td>\n",
       "      <td>David Eduardo Monroy Ramos</td>\n",
       "      <td>No</td>\n",
       "      <td>No</td>\n",
       "      <td>No</td>\n",
       "      <td>No</td>\n",
       "      <td>No</td>\n",
       "      <td>No</td>\n",
       "      <td>No</td>\n",
       "      <td>Distribuido</td>\n",
       "      <td>Inversión</td>\n",
       "      <td>53125000</td>\n",
       "    </tr>\n",
       "    <tr>\n",
       "      <th>4149</th>\n",
       "      <td>Modificado</td>\n",
       "      <td>Prestación de servicios</td>\n",
       "      <td>Contratación directa</td>\n",
       "      <td>Servicios profesionales y apoyo a la gestión</td>\n",
       "      <td>2022-10-18T00:00:00.000</td>\n",
       "      <td>2022-10-20T00:00:00.000</td>\n",
       "      <td>2022-12-31T00:00:00.000</td>\n",
       "      <td>Cédula de Ciudadanía</td>\n",
       "      <td>Michael Andrés Gacha Cortés</td>\n",
       "      <td>No</td>\n",
       "      <td>No</td>\n",
       "      <td>No</td>\n",
       "      <td>No</td>\n",
       "      <td>No</td>\n",
       "      <td>No</td>\n",
       "      <td>No</td>\n",
       "      <td>Distribuido</td>\n",
       "      <td>Inversión</td>\n",
       "      <td>11336333</td>\n",
       "    </tr>\n",
       "    <tr>\n",
       "      <th>4150</th>\n",
       "      <td>En ejecución</td>\n",
       "      <td>Prestación de servicios</td>\n",
       "      <td>Contratación directa</td>\n",
       "      <td>Servicios profesionales y apoyo a la gestión</td>\n",
       "      <td>2021-08-30T00:00:00.000</td>\n",
       "      <td>2021-08-31T00:00:00.000</td>\n",
       "      <td>2021-12-30T00:00:00.000</td>\n",
       "      <td>Cédula de Ciudadanía</td>\n",
       "      <td>LORENA MARCELA BARANDICA ACOSTA</td>\n",
       "      <td>No</td>\n",
       "      <td>No</td>\n",
       "      <td>No</td>\n",
       "      <td>No</td>\n",
       "      <td>No</td>\n",
       "      <td>No</td>\n",
       "      <td>No</td>\n",
       "      <td>Distribuido</td>\n",
       "      <td>Funcionamiento</td>\n",
       "      <td>32000000</td>\n",
       "    </tr>\n",
       "  </tbody>\n",
       "</table>\n",
       "<p>4151 rows × 19 columns</p>\n",
       "</div>"
      ],
      "text/plain": [
       "     estado_contrato         tipo_de_contrato modalidad_de_contratacion  \\\n",
       "0       En ejecución  Prestación de servicios      Contratación directa   \n",
       "1             cedido  Prestación de servicios      Contratación directa   \n",
       "2       En ejecución  Prestación de servicios      Contratación directa   \n",
       "3       En ejecución  Prestación de servicios      Contratación directa   \n",
       "4         Modificado                     Otro      Contratación directa   \n",
       "...              ...                      ...                       ...   \n",
       "4146    En ejecución  Prestación de servicios      Contratación directa   \n",
       "4147    En ejecución  Prestación de servicios      Contratación directa   \n",
       "4148    En ejecución  Prestación de servicios      Contratación directa   \n",
       "4149      Modificado  Prestación de servicios      Contratación directa   \n",
       "4150    En ejecución  Prestación de servicios      Contratación directa   \n",
       "\n",
       "                             justificacion_modalidad_de  \\\n",
       "0          Servicios profesionales y apoyo a la gestión   \n",
       "1          Servicios profesionales y apoyo a la gestión   \n",
       "2          Servicios profesionales y apoyo a la gestión   \n",
       "3          Servicios profesionales y apoyo a la gestión   \n",
       "4     Contratos o convenios Interadministrativos (va...   \n",
       "...                                                 ...   \n",
       "4146       Servicios profesionales y apoyo a la gestión   \n",
       "4147       Servicios profesionales y apoyo a la gestión   \n",
       "4148       Servicios profesionales y apoyo a la gestión   \n",
       "4149       Servicios profesionales y apoyo a la gestión   \n",
       "4150       Servicios profesionales y apoyo a la gestión   \n",
       "\n",
       "               fecha_de_firma fecha_de_inicio_del_contrato  \\\n",
       "0     2022-01-29T00:00:00.000      2022-01-28T00:00:00.000   \n",
       "1     2023-03-01T00:00:00.000      2023-03-03T00:00:00.000   \n",
       "2     2021-08-19T00:00:00.000      2021-08-20T00:00:00.000   \n",
       "3     2022-01-17T00:00:00.000      2022-01-19T00:00:00.000   \n",
       "4     2020-11-01T00:00:00.000      2020-11-03T00:00:00.000   \n",
       "...                       ...                          ...   \n",
       "4146  2022-01-13T00:00:00.000      2022-01-14T00:00:00.000   \n",
       "4147  2023-01-28T00:00:00.000      2023-02-02T00:00:00.000   \n",
       "4148  2023-04-11T00:00:00.000      2023-04-12T00:00:00.000   \n",
       "4149  2022-10-18T00:00:00.000      2022-10-20T00:00:00.000   \n",
       "4150  2021-08-30T00:00:00.000      2021-08-31T00:00:00.000   \n",
       "\n",
       "     fecha_de_fin_del_contrato      tipodocproveedor  \\\n",
       "0      2022-11-29T00:00:00.000  Cédula de Ciudadanía   \n",
       "1      2023-12-28T00:00:00.000  Cédula de Ciudadanía   \n",
       "2      2021-12-30T00:00:00.000  Cédula de Ciudadanía   \n",
       "3      2022-10-19T00:00:00.000  Cédula de Ciudadanía   \n",
       "4      2023-01-01T00:00:00.000           No Definido   \n",
       "...                        ...                   ...   \n",
       "4146   2022-12-15T00:00:00.000  Cédula de Ciudadanía   \n",
       "4147   2023-06-01T00:00:00.000  Cédula de Ciudadanía   \n",
       "4148   2023-12-27T00:00:00.000  Cédula de Ciudadanía   \n",
       "4149   2022-12-31T00:00:00.000  Cédula de Ciudadanía   \n",
       "4150   2021-12-30T00:00:00.000  Cédula de Ciudadanía   \n",
       "\n",
       "                                   proveedor_adjudicado es_grupo es_pyme  \\\n",
       "0                                 OSCAR ANDRES MARTINEZ       No      No   \n",
       "1                           Juañ David Martinez Morales       No      No   \n",
       "2                            María Catalina Pinedo Tous       No      No   \n",
       "3                          Maira Alejandra Pérez Mojica       No      No   \n",
       "4     PROGRAMA DE LAS NACIONES UNIDAS PARA EL DESARR...       No      No   \n",
       "...                                                 ...      ...     ...   \n",
       "4146                     Yina Marcela Carrera Rodríguez       No      No   \n",
       "4147              DIEGO MAURICIO SARMIENTO-PEREZ TOLEDO       No      No   \n",
       "4148                         David Eduardo Monroy Ramos       No      No   \n",
       "4149                        Michael Andrés Gacha Cortés       No      No   \n",
       "4150                    LORENA MARCELA BARANDICA ACOSTA       No      No   \n",
       "\n",
       "     habilita_pago_adelantado liquidaci_n obligaci_n_ambiental  \\\n",
       "0                          No          No                   No   \n",
       "1                          No          No                   No   \n",
       "2                          No          No                   No   \n",
       "3                          No          No                   No   \n",
       "4                          No          No                   No   \n",
       "...                       ...         ...                  ...   \n",
       "4146                       No          No                   No   \n",
       "4147                       No          No                   No   \n",
       "4148                       No          No                   No   \n",
       "4149                       No          No                   No   \n",
       "4150                       No          No                   No   \n",
       "\n",
       "     obligaciones_postconsumo reversion origen_de_los_recursos  \\\n",
       "0                          No        No            Distribuido   \n",
       "1                          No        No            Distribuido   \n",
       "2                          No        No            Distribuido   \n",
       "3                          No        No            Distribuido   \n",
       "4                          No        No            Distribuido   \n",
       "...                       ...       ...                    ...   \n",
       "4146                       No        No            Distribuido   \n",
       "4147                       No        No            Distribuido   \n",
       "4148                       No        No            Distribuido   \n",
       "4149                       No        No            Distribuido   \n",
       "4150                       No        No            Distribuido   \n",
       "\n",
       "       destino_gasto  valor_del_contrato  \n",
       "0          Inversión            90500000  \n",
       "1          Inversión            77946667  \n",
       "2          Inversión            22533290  \n",
       "3          Inversión            49168080  \n",
       "4          Inversión          4817869640  \n",
       "...              ...                 ...  \n",
       "4146       Inversión           110000000  \n",
       "4147       Inversión            23500000  \n",
       "4148       Inversión            53125000  \n",
       "4149       Inversión            11336333  \n",
       "4150  Funcionamiento            32000000  \n",
       "\n",
       "[4151 rows x 19 columns]"
      ]
     },
     "execution_count": 6,
     "metadata": {},
     "output_type": "execute_result"
    }
   ],
   "source": [
    "#Seleccion de columnas \n",
    "Base_filtrada = pd.concat([\n",
    "    contratos_min_ambiente.loc[:, 'estado_contrato':'valor_del_contrato']\n",
    "], axis=1)\n",
    "columnas_eliminar = [\"codigo_de_categoria_principal\", \"descripcion_del_proceso\", \"condiciones_de_entrega\", \"documento_proveedor\"]\n",
    "Base_filtrada = Base_filtrada.drop(columnas_eliminar, axis=1)\n",
    "Base_filtrada.to_csv('../../Datos/Raw/base_recortada_contratos.csv', index=False)\n",
    "Data=pd.read_csv('../../Datos/Raw/base_recortada_contratos.csv')\n",
    "Base_filtrada"
   ]
  },
  {
   "cell_type": "code",
   "execution_count": 7,
   "metadata": {},
   "outputs": [
    {
     "name": "stdout",
     "output_type": "stream",
     "text": [
      "Index(['estado_contrato', 'tipo_de_contrato', 'modalidad_de_contratacion',\n",
      "       'justificacion_modalidad_de', 'fecha_de_firma',\n",
      "       'fecha_de_inicio_del_contrato', 'fecha_de_fin_del_contrato',\n",
      "       'tipodocproveedor', 'proveedor_adjudicado', 'es_grupo', 'es_pyme',\n",
      "       'habilita_pago_adelantado', 'liquidaci_n', 'obligaci_n_ambiental',\n",
      "       'obligaciones_postconsumo', 'reversion', 'origen_de_los_recursos',\n",
      "       'destino_gasto', 'valor_del_contrato'],\n",
      "      dtype='object')\n"
     ]
    }
   ],
   "source": [
    "print(Base_filtrada.columns)"
   ]
  },
  {
   "cell_type": "markdown",
   "metadata": {},
   "source": [
    "Se identifica el tamaño de la nueva base de datos y si hay datos faltantes: "
   ]
  },
  {
   "cell_type": "code",
   "execution_count": 8,
   "metadata": {},
   "outputs": [
    {
     "name": "stdout",
     "output_type": "stream",
     "text": [
      "Número de filas: 4151\n",
      "Número de columnas: 19\n"
     ]
    }
   ],
   "source": [
    "filas, columnas = Base_filtrada.shape\n",
    "\n",
    "# Para conocer el numero de filas y columnas de la base filtrada\n",
    "print(f'Número de filas: {filas}')\n",
    "print(f'Número de columnas: {columnas}')"
   ]
  },
  {
   "cell_type": "code",
   "execution_count": 9,
   "metadata": {},
   "outputs": [
    {
     "name": "stdout",
     "output_type": "stream",
     "text": [
      "Número de NaN por columna:\n",
      "estado_contrato                  0\n",
      "tipo_de_contrato                 0\n",
      "modalidad_de_contratacion        0\n",
      "justificacion_modalidad_de       0\n",
      "fecha_de_firma                   0\n",
      "fecha_de_inicio_del_contrato    97\n",
      "fecha_de_fin_del_contrato        0\n",
      "tipodocproveedor                 0\n",
      "proveedor_adjudicado             0\n",
      "es_grupo                         0\n",
      "es_pyme                          0\n",
      "habilita_pago_adelantado         0\n",
      "liquidaci_n                      0\n",
      "obligaci_n_ambiental             0\n",
      "obligaciones_postconsumo         0\n",
      "reversion                        0\n",
      "origen_de_los_recursos           0\n",
      "destino_gasto                    0\n",
      "valor_del_contrato               0\n",
      "dtype: int64\n"
     ]
    }
   ],
   "source": [
    "# Se configura la visualización para mostrar todas las columnas\n",
    "pd.set_option('display.max.columns', None)\n",
    "nan_count = Base_filtrada.isna().sum()\n",
    "\n",
    "print(\"Número de NaN por columna:\")\n",
    "print(nan_count)"
   ]
  },
  {
   "cell_type": "markdown",
   "metadata": {},
   "source": [
    "De lo anterior se destaca que, de las columnas seleccionadas para el análisis, únicamente la columna que almacena información sobre la Fecha de Inicio del Contrato presenta tres valores faltantes, los cuales equivalen al 0.07% de todas las filas, por lo que se eliminaran estas observaciones de la base de datos para tener una base completa. A continuación, se procederá a elaborar el análisis correspondiente a las columnas seleccionadas de interés y se implementarán estrategias adecuadas para abordar la gestión de los valores faltantes en la mencionada columna. "
   ]
  },
  {
   "cell_type": "code",
   "execution_count": 10,
   "metadata": {},
   "outputs": [],
   "source": [
    "Base_filtrada = Base_filtrada.dropna()"
   ]
  },
  {
   "cell_type": "code",
   "execution_count": 11,
   "metadata": {},
   "outputs": [
    {
     "name": "stdout",
     "output_type": "stream",
     "text": [
      "Hay valores nulos en la base de datos? False\n"
     ]
    }
   ],
   "source": [
    "valores_nulos = Base_filtrada.isna()\n",
    "hay_Na = valores_nulos.any().any()\n",
    "print(\"Hay valores nulos en la base de datos?\", hay_Na)"
   ]
  },
  {
   "cell_type": "markdown",
   "metadata": {},
   "source": [
    "Dado que ya no hay valores nulos se seguirá con el análisis de los datos."
   ]
  },
  {
   "cell_type": "code",
   "execution_count": 12,
   "metadata": {},
   "outputs": [
    {
     "name": "stdout",
     "output_type": "stream",
     "text": [
      "Estado de Contrato:\n",
      "                 Frecuencia  Porcentaje\n",
      "estado_contrato                        \n",
      "En ejecución           1897       46.79\n",
      "Modificado             1546       38.14\n",
      "terminado               277        6.83\n",
      "Cerrado                 151        3.72\n",
      "Activo                  146        3.60\n",
      "cedido                   37        0.91\n"
     ]
    },
    {
     "data": {
      "image/png": "[encoded data removed]",
      "text/plain": [
       "<Figure size 1000x600 with 1 Axes>"
      ]
     },
     "metadata": {},
     "output_type": "display_data"
    },
    {
     "name": "stdout",
     "output_type": "stream",
     "text": [
      "\n",
      "Número de tipos de contrato: 10\n",
      "\n",
      "Frecuencia de cada tipo de contrato:\n",
      "tipo_de_contrato\n",
      "Prestación de servicios    3889\n",
      "Otro                        110\n",
      "Suministros                  14\n",
      "Compraventa                  12\n",
      "No Especificado              11\n",
      "Decreto 092 de 2017           5\n",
      "Seguros                       5\n",
      "Consultoría                   4\n",
      "Obra                          3\n",
      "Negocio fiduciario            1\n",
      "Name: count, dtype: int64\n",
      "\n",
      "Número de modalidades de contratación: 10\n",
      "\n",
      "Frecuencia de cada modalidad de contratación:\n",
      "modalidad_de_contratacion\n",
      "Contratación directa                                           3940\n",
      "Mínima cuantía                                                   46\n",
      "Selección abreviada subasta inversa                              23\n",
      "Selección Abreviada de Menor Cuantía                             16\n",
      "Contratación régimen especial                                    16\n",
      "Licitación pública                                                7\n",
      "Contratación régimen especial (con ofertas)                       2\n",
      "Concurso de méritos abierto                                       2\n",
      "Seleccion Abreviada Menor Cuantia Sin Manifestacion Interes       1\n",
      "Contratación Directa (con ofertas)                                1\n",
      "Name: count, dtype: int64\n"
     ]
    }
   ],
   "source": [
    "estado_contrato_data = Base_filtrada['estado_contrato'].value_counts()\n",
    "estado_contrato_porcentajes = Base_filtrada['estado_contrato'].value_counts(normalize=True) * 100\n",
    "estado_contrato_porcentajes = estado_contrato_porcentajes.round(2)\n",
    "estado_contrato_df = pd.DataFrame({'Frecuencia': estado_contrato_data, 'Porcentaje': estado_contrato_porcentajes})\n",
    "\n",
    "print(\"Estado de Contrato:\")\n",
    "print(estado_contrato_df)\n",
    "\n",
    "estado_contrato_data.plot(kind='bar', figsize=(10, 6), color='skyblue')\n",
    "plt.title('Frecuencia de Estados de Contrato')\n",
    "plt.xlabel('Estado de Contrato')\n",
    "plt.ylabel('Frecuencia')\n",
    "plt.show()\n",
    "\n",
    "tipos_contrato_frecuencias = Base_filtrada['tipo_de_contrato'].value_counts()\n",
    "print(f\"\\nNúmero de tipos de contrato: {len(tipos_contrato_frecuencias)}\")\n",
    "print(\"\\nFrecuencia de cada tipo de contrato:\")\n",
    "print(tipos_contrato_frecuencias)\n",
    "\n",
    "modalidades_contratacion_frecuencias = Base_filtrada['modalidad_de_contratacion'].value_counts()\n",
    "print(f\"\\nNúmero de modalidades de contratación: {len(modalidades_contratacion_frecuencias)}\")\n",
    "print(\"\\nFrecuencia de cada modalidad de contratación:\")\n",
    "print(modalidades_contratacion_frecuencias)\n"
   ]
  },
  {
   "cell_type": "markdown",
   "metadata": {},
   "source": [
    "El análisis unificado de las frecuencias de estados de contrato, tipos de contrato y modalidades de contratación proporciona una visión comprehensiva de las prácticas de contratación en el Ministerio de Ambiente y Desarrollo Sostenible. A continuación, se presentan los resultados clave:\n",
    "\n",
    "Estado de Contrato:\n",
    "La frecuencia de cada estado de contrato proporciona una visión clara de cómo se distribuyen los contratos en diferentes etapas de ejecución. La abrumadora prevalencia de \"Contratación directa\" con 3746 contratos sugiere una estrategia dominante de abordar procesos contractuales de manera directa, posiblemente para agilizar y simplificar la ejecución. Aunque otras categorías como \"Mínima cuantía\" y \"Selección abreviada subasta inversa\" tienen frecuencias más bajas, su presencia indica la aplicación de diferentes enfoques en situaciones específicas.\n",
    "\n",
    "Tipos de Contrato:\n",
    "La identificación de la \"Prestación de servicios\" como el tipo de contrato más frecuente, con 3707 contratos, resalta la importancia de esta actividad en los proyectos del Ministerio. Las otras categorías de tipos de contrato, aunque menos frecuentes, pueden tener implicaciones particulares y requerir consideraciones específicas en términos de gestión y ejecución.\n",
    "\n",
    "Modalidades de Contratación:\n",
    "La preeminencia de la \"Contratación directa\" con 3746 contratos indica una preferencia por este enfoque, posiblemente motivada por la flexibilidad que ofrece. Aunque modalidades como \"Mínima cuantía\" y \"Selección abreviada subasta inversa\" tienen frecuencias más bajas, su presencia sugiere una variedad de enfoques para abordar diferentes tipos de proyectos. La diversificación en modalidades especiales, como \"Concurso de méritos abierto\" y \"Seleccion Abreviada Menor Cuantia Sin Manifestacion Interes\", destaca la adaptabilidad en la elección de métodos, indicando una respuesta específica a la complejidad y naturaleza única de ciertos proyectos. ."
   ]
  },
  {
   "cell_type": "code",
   "execution_count": 13,
   "metadata": {},
   "outputs": [
    {
     "name": "stdout",
     "output_type": "stream",
     "text": [
      "Frecuencias de todas las justificaciones de modalidad de contratación:\n",
      "justificacion_modalidad_de\n",
      "Servicios profesionales y apoyo a la gestión                                                  3888\n",
      "Contratos o convenios Interadministrativos (valor cero)                                        100\n",
      "Presupuesto inferior al 10% de la menor cuantía                                                 46\n",
      "No existe pluralidad de oferentes en el mercado                                                 26\n",
      "Suministro de bienes y servicios de características técnicas uniformes y común utilización      23\n",
      "No Definido                                                                                     17\n",
      "Regla aplicable                                                                                 13\n",
      "Presupuesto menor al 10% de la Menor Cuantía                                                    12\n",
      "Ley 1150 de 2007                                                                                10\n",
      "Decreto 092 de 2017                                                                              5\n",
      "Prestación de servicios de salud                                                                 4\n",
      "Urgencia manifiesta                                                                              2\n",
      "Proceso de licitación pública declarado desierto                                                 1\n",
      "Contratos para el desarrollo de actividades científicas y tecnológicas                           1\n",
      "Contratos o convenios Interadministrativos (con valor)                                           1\n",
      "Ejecución de trabajos artísticos                                                                 1\n",
      "Contratos de bienes y servicios sujetos a reserva                                                1\n",
      "Name: count, dtype: int64\n"
     ]
    },
    {
     "data": {
      "image/png": "[encoded data removed]",
      "text/plain": [
       "<Figure size 1000x600 with 1 Axes>"
      ]
     },
     "metadata": {},
     "output_type": "display_data"
    }
   ],
   "source": [
    "justificaciones_modalidad_frecuencias = contratos_min_ambiente['justificacion_modalidad_de'].value_counts()\n",
    "print(\"Frecuencias de todas las justificaciones de modalidad de contratación:\")\n",
    "print(justificaciones_modalidad_frecuencias)\n",
    "\n",
    "top_justificaciones = justificaciones_modalidad_frecuencias.head(3)\n",
    "\n",
    "plt.figure(figsize=(10, 6))\n",
    "top_justificaciones.plot(kind='bar', color='skyblue')\n",
    "plt.title('Las Tres Frecuencias Más Altas de Justificaciones de Modalidad de Contratación')\n",
    "plt.xlabel('Justificación de Modalidad de Contratación')\n",
    "plt.ylabel('Frecuencia')\n",
    "plt.show()"
   ]
  },
  {
   "cell_type": "markdown",
   "metadata": {},
   "source": [
    "\n",
    "El análisis de las justificaciones de modalidad de contratación proporciona una visión detallada de las razones detrás de la elección de ciertos métodos de contratación en el Ministerio de Ambiente y Desarrollo Sostenible. Destacan tres categorías con las frecuencias más altas:\n",
    "\n",
    "Servicios Profesionales y Apoyo a la Gestión (3615 contratos):\n",
    "\n",
    "Esta justificación lidera con una frecuencia considerable, indicando que el Ministerio frecuentemente recurre a servicios profesionales y apoyo a la gestión en sus contratos. Esto podría reflejar la necesidad de experiencia especializada para llevar a cabo proyectos y tareas específicas.\n",
    "Contratos o Convenios Interadministrativos (Valor Cero) (100 contratos):\n",
    "\n",
    "La justificación de contratos o convenios interadministrativos con valor cero tiene una frecuencia significativa, señalando la existencia de acuerdos colaborativos entre diferentes entidades gubernamentales. Esta práctica puede ser común para compartir recursos o conocimientos sin intercambio financiero directo.\n",
    "Presupuesto Inferior al 10% de la Menor Cuantía (46 contratos):\n",
    "\n",
    "La selección de esta modalidad debido a un presupuesto inferior al 10% de la menor cuantía es otra justificación utilizada con regularidad. Esto puede indicar una preferencia por este enfoque en situaciones donde el presupuesto disponible es relativamente bajo en comparación con la menor cuantía establecida.\n",
    "Las restantes justificaciones, aunque menos frecuentes, incluyen razones como la falta de pluralidad de oferentes en el mercado, cumplimiento de normativas específicas (como la Ley 1150 de 2007 o el Decreto 092 de 2017), urgencia manifiesta, entre otras. "
   ]
  },
  {
   "cell_type": "code",
   "execution_count": 14,
   "metadata": {},
   "outputs": [
    {
     "name": "stderr",
     "output_type": "stream",
     "text": [
      "C:\\Users\\Usuario\\AppData\\Local\\Temp\\ipykernel_12464\\953946201.py:1: SettingWithCopyWarning: \n",
      "A value is trying to be set on a copy of a slice from a DataFrame.\n",
      "Try using .loc[row_indexer,col_indexer] = value instead\n",
      "\n",
      "See the caveats in the documentation: https://pandas.pydata.org/pandas-docs/stable/user_guide/indexing.html#returning-a-view-versus-a-copy\n",
      "  Base_filtrada['fecha_de_firma'] = pd.to_datetime(Base_filtrada['fecha_de_firma'])\n",
      "C:\\Users\\Usuario\\AppData\\Local\\Temp\\ipykernel_12464\\953946201.py:2: SettingWithCopyWarning: \n",
      "A value is trying to be set on a copy of a slice from a DataFrame.\n",
      "Try using .loc[row_indexer,col_indexer] = value instead\n",
      "\n",
      "See the caveats in the documentation: https://pandas.pydata.org/pandas-docs/stable/user_guide/indexing.html#returning-a-view-versus-a-copy\n",
      "  Base_filtrada['fecha_de_inicio_del_contrato'] = pd.to_datetime(Base_filtrada['fecha_de_inicio_del_contrato'])\n",
      "C:\\Users\\Usuario\\AppData\\Local\\Temp\\ipykernel_12464\\953946201.py:3: SettingWithCopyWarning: \n",
      "A value is trying to be set on a copy of a slice from a DataFrame.\n",
      "Try using .loc[row_indexer,col_indexer] = value instead\n",
      "\n",
      "See the caveats in the documentation: https://pandas.pydata.org/pandas-docs/stable/user_guide/indexing.html#returning-a-view-versus-a-copy\n",
      "  Base_filtrada['fecha_de_fin_del_contrato'] = pd.to_datetime(Base_filtrada['fecha_de_fin_del_contrato'])\n",
      "C:\\Users\\Usuario\\AppData\\Local\\Temp\\ipykernel_12464\\953946201.py:5: SettingWithCopyWarning: \n",
      "A value is trying to be set on a copy of a slice from a DataFrame.\n",
      "Try using .loc[row_indexer,col_indexer] = value instead\n",
      "\n",
      "See the caveats in the documentation: https://pandas.pydata.org/pandas-docs/stable/user_guide/indexing.html#returning-a-view-versus-a-copy\n",
      "  Base_filtrada['mes_anio'] = Base_filtrada['fecha_de_firma'].dt.to_period(\"M\")\n",
      "C:\\Users\\Usuario\\AppData\\Local\\Temp\\ipykernel_12464\\953946201.py:6: SettingWithCopyWarning: \n",
      "A value is trying to be set on a copy of a slice from a DataFrame.\n",
      "Try using .loc[row_indexer,col_indexer] = value instead\n",
      "\n",
      "See the caveats in the documentation: https://pandas.pydata.org/pandas-docs/stable/user_guide/indexing.html#returning-a-view-versus-a-copy\n",
      "  Base_filtrada['duracion_del_contrato'] = (Base_filtrada['fecha_de_fin_del_contrato'] - Base_filtrada['fecha_de_inicio_del_contrato']).dt.days\n"
     ]
    },
    {
     "data": {
      "image/png": "[encoded data removed]",
      "text/plain": [
       "<Figure size 1000x600 with 1 Axes>"
      ]
     },
     "metadata": {},
     "output_type": "display_data"
    },
    {
     "data": {
      "image/png": "[encoded data removed]",
      "text/plain": [
       "<Figure size 1000x600 with 1 Axes>"
      ]
     },
     "metadata": {},
     "output_type": "display_data"
    }
   ],
   "source": [
    "\n",
    "Base_filtrada['fecha_de_firma'] = pd.to_datetime(Base_filtrada['fecha_de_firma'])\n",
    "Base_filtrada['fecha_de_inicio_del_contrato'] = pd.to_datetime(Base_filtrada['fecha_de_inicio_del_contrato'])\n",
    "Base_filtrada['fecha_de_fin_del_contrato'] = pd.to_datetime(Base_filtrada['fecha_de_fin_del_contrato'])\n",
    "\n",
    "Base_filtrada['mes_anio'] = Base_filtrada['fecha_de_firma'].dt.to_period(\"M\")\n",
    "Base_filtrada['duracion_del_contrato'] = (Base_filtrada['fecha_de_fin_del_contrato'] - Base_filtrada['fecha_de_inicio_del_contrato']).dt.days\n",
    "\n",
    "# Se crea un histograma con las fechas de firma por mes/año\n",
    "Base_filtrada['mes_anio'].value_counts().sort_index().plot(kind='bar', color='skyblue', edgecolor='black', alpha=0.7, figsize=(10, 6))\n",
    "plt.title('Histograma de Fechas de Firma por Mes/Año')\n",
    "plt.xlabel('Mes/Año')\n",
    "plt.ylabel('Número de Contratos')\n",
    "plt.xticks(rotation=45, ha='right')\n",
    "\n",
    "# Se crea un histograma de duración de los contratos con frecuencia encima de las barras\n",
    "plt.figure(figsize=(10, 6))\n",
    "ax = plt.subplot(1, 1, 1)\n",
    "Base_filtrada['duracion_del_contrato'].hist(bins=30, color='skyblue', edgecolor='black', alpha=0.7, ax=ax, grid=False)\n",
    "plt.title('Histograma de Duración de los Contratos')\n",
    "plt.xlabel('Duración del Contrato (días)')\n",
    "plt.ylabel('Frecuencia')\n",
    "\n",
    "for p in ax.patches:\n",
    "    ax.annotate(str(int(p.get_height())), (p.get_x() + p.get_width() / 2., p.get_height()),\n",
    "                ha='center', va='center', xytext=(0, 10), textcoords='offset points')\n",
    "\n",
    "plt.tight_layout()\n",
    "plt.show()\n"
   ]
  },
  {
   "cell_type": "markdown",
   "metadata": {},
   "source": [
    "Las gráficas revelan patrones notables en la firma de contratos durante el periodo de 2020 a 2023. Se destaca que los dos primeros meses de cada año concentran el mayor número de contratos. En enero y febrero de 2020 se firmaron alrededor de 180 contratos cada mes, manteniéndose una cifra similar en 2021. Sin embargo, en enero de 2022 se experimentó un notable incremento, superando los 800 contratos. En contraste, para 2023, la cantidad de contratos firmados en el primer mes del año se redujo casi a la mitad.\n",
    "\n",
    "Esta variación en la cantidad de contratos podría vincularse con las estrategias gubernamentales de reactivación económica implementadas a principios de 2022, tras dos años de pandemia que posiblemente ralentizaron la contratación pública. Se observa que los meses con menor actividad contractual son los últimos del año, con la excepción del segundo cuatrimestre de 2022, donde se evidencia una marcada disminución en la firma de contratos. Estos hallazgos sugieren una dinámica estacional y posiblemente reflejen cambios en las prioridades y enfoques del gobierno en respuesta a condiciones económicas y de salud pública cambiantes.\n",
    "\n",
    "A partir del segundo gráfico, se puede realizar un análisis detallado del periodo evaluado (2020-2023) en la base de datos. Se destaca que se identificaron más de 1,300 contratos con una duración de 1,390 días, siendo este el periodo más extenso registrado para un contrato. Asimismo, se observa que el rango más frecuente de duración para los contratos se sitúa entre 181 y 431 días. Es notable que la duración de contratos inferiores a 50 días es bastante poco frecuente, indicando una tendencia a acuerdos de mediano a largo plazo en la contratación evaluada. "
   ]
  },
  {
   "cell_type": "code",
   "execution_count": 15,
   "metadata": {},
   "outputs": [
    {
     "name": "stdout",
     "output_type": "stream",
     "text": [
      "Frecuencias de contratos por tipo de documento del proveedor:\n",
      "tipodocproveedor\n",
      "Cédula de Ciudadanía     3771\n",
      "No Definido               266\n",
      "Sin Descripcion             9\n",
      "Cédula de Extranjería       6\n",
      "Tarjeta de Identidad        2\n",
      "Name: count, dtype: int64\n"
     ]
    }
   ],
   "source": [
    "frecuencias_tipodocproveedor = Base_filtrada['tipodocproveedor'].value_counts()\n",
    "print(\"Frecuencias de contratos por tipo de documento del proveedor:\")\n",
    "print(frecuencias_tipodocproveedor)"
   ]
  },
  {
   "cell_type": "markdown",
   "metadata": {},
   "source": [
    "\n",
    "El análisis detallado de los tipos de documento utilizados por los proveedores en los contratos del Ministerio de Ambiente y Desarrollo Sostenible revela patrones notables en la identificación de los proveedores. En primer lugar, la mayoría de los contratos están vinculados a proveedores que emplean la Cédula de Ciudadanía como documento principal, consolidándose como la opción preponderante. Además, la presencia de un número significativo de contratos con el tipo de documento no definido sugiere posibles inconsistencias o falta de información en algunas entradas.\n",
    "\n",
    "Es particularmente intrigante observar que dos contratos están asociados a proveedores que utilizan la Tarjeta de Identidad como documento de identificación. Este hallazgo es excepcional, ya que la Tarjeta de Identidad suele ser un documento utilizado por individuos menores de edad. Este aspecto merece una investigación más profunda para comprender las circunstancias específicas que llevaron a esta situación inusual.\n",
    "\n",
    "Asimismo, llama la atención la escasa representación de proveedores con Cédula de Extranjería, limitándose a solo seis casos. Este fenómeno podría sugerir restricciones en la participación de proveedores extranjeros en ciertos tipos de contratos o reflejar la predominancia de proveedores nacionales en las transacciones de contratación del Ministerio."
   ]
  },
  {
   "cell_type": "code",
   "execution_count": 16,
   "metadata": {},
   "outputs": [
    {
     "name": "stdout",
     "output_type": "stream",
     "text": [
      "Proveedores con más de dos contratos adjudicados:\n",
      "proveedor_adjudicado\n",
      "Ministerio de Ambiente y Desarrollo Sostenible                                  13\n",
      "INSTITUTO DE INVESTIGACION DE RECURSOS BIOLOGICOS ALEXANDER VON HUMBOLDT        10\n",
      "PROGRAMA DE LAS NACIONES UNIDAS PARA EL DESARROLLO PNUD                          9\n",
      "INSTITUTO DE INVESTIGACIONES MARINAS Y COSTERAS JOSE BENITO VIVES DE ANDREIS     8\n",
      "PEDRO MANUEL AVENDAÑO LAITON                                                     7\n",
      "                                                                                ..\n",
      "SARA MILENA ECHANDIA ALVAREZ                                                     3\n",
      "Vera Tatiana Martinez Baños                                                      3\n",
      "Luis Fernando Castillo Rojas                                                     3\n",
      "Nancy Liseth Muñoz Ortiz                                                         3\n",
      "LUIS GABRIEL MORENO SANDOVAL                                                     3\n",
      "Name: count, Length: 541, dtype: int64\n"
     ]
    }
   ],
   "source": [
    "contratos_por_proveedor = Base_filtrada['proveedor_adjudicado'].value_counts()\n",
    "proveedores_con_mas_de_dos_contratos = contratos_por_proveedor[contratos_por_proveedor > 2]\n",
    "print(\"Proveedores con más de dos contratos adjudicados:\")\n",
    "print(proveedores_con_mas_de_dos_contratos)\n"
   ]
  },
  {
   "cell_type": "markdown",
   "metadata": {},
   "source": [
    "El análisis detallado de los proveedores que han sido adjudicatarios en más de dos contratos con el Ministerio de Ambiente y Desarrollo Sostenible revela una diversidad significativa en las entidades y actores involucrados en la ejecución de proyectos. En primer lugar, el propio Ministerio emerge como un adjudicatario frecuente, sugiriendo la posibilidad de contratos internos o interinstitucionales. Destacan instituciones especializadas como el INSTITUTO DE INVESTIGACION DE RECURSOS BIOLOGICOS ALEXANDER VON HUMBOLDT, evidenciando la importancia de la investigación de recursos biológicos en los proyectos ministeriales. Asimismo, la presencia del PROGRAMA DE LAS NACIONES UNIDAS PARA EL DESARROLLO PNUD indica colaboraciones internacionales en áreas relacionadas con el desarrollo sostenible y el medio ambiente. Otro actor clave es el INSTITUTO DE INVESTIGACIONES MARINAS Y COSTERAS JOSE BENITO VIVES DE ANDREIS, resaltando la relevancia de los estudios marinos y costeros en las iniciativas ministeriales. \n",
    "\n",
    "Además, proveedores individuales como Nicolly Daniela Sánchez Valcarcel, junto con otros como Consuelo Gauta Gómez, Jorge Eliécer Portela Paipa, Kelly Joletti Moreno Fontalvo, Laura Cristina Morales Giraldo y Kevin Alexander Alvarado Burgos, desempeñan roles importantes al ser adjudicatarios en varios contratos, sugiriendo posibles relaciones continuas y acuerdos a largo plazo. En conclusión, este análisis subraya la estrategia de colaboración diversa del Ministerio y la importancia de contar con proveedores especializados para la implementación exitosa de sus proyectos."
   ]
  },
  {
   "cell_type": "code",
   "execution_count": 17,
   "metadata": {},
   "outputs": [
    {
     "data": {
      "image/png": "[encoded data removed]",
      "text/plain": [
       "<Figure size 1200x600 with 2 Axes>"
      ]
     },
     "metadata": {},
     "output_type": "display_data"
    },
    {
     "name": "stdout",
     "output_type": "stream",
     "text": [
      "Tabla de Frecuencias:\n",
      "    Es un grupo  Es una pyme\n",
      "No         4047         3814\n",
      "Si            7          240\n"
     ]
    }
   ],
   "source": [
    "frecuencias_grupo = Base_filtrada['es_grupo'].value_counts()\n",
    "frecuencias_pyme = Base_filtrada['es_pyme'].value_counts()\n",
    "\n",
    "fig, (ax1, ax2) = plt.subplots(1, 2, figsize=(12, 6))\n",
    "\n",
    "ax1.pie(frecuencias_grupo, labels=frecuencias_grupo.index, autopct='%1.1f%%', startangle=90)\n",
    "ax1.set_title('¿Es un grupo?')\n",
    "\n",
    "ax2.pie(frecuencias_pyme, labels=frecuencias_pyme.index, autopct='%1.1f%%', startangle=90)\n",
    "ax2.set_title('¿Es una pyme?')\n",
    "\n",
    "plt.tight_layout()\n",
    "plt.show()\n",
    "\n",
    "tabla_frecuencias = pd.DataFrame({\n",
    "    'Es un grupo': frecuencias_grupo,\n",
    "    'Es una pyme': frecuencias_pyme\n",
    "})\n",
    "\n",
    "print(\"Tabla de Frecuencias:\")\n",
    "print(tabla_frecuencias)"
   ]
  },
  {
   "cell_type": "markdown",
   "metadata": {},
   "source": [
    "Los anteriores gráficos revelan detalles significativos sobre la distribución de los contratos en la base de datos filtrada en función de las categorías \"es_grupo\" y \"es_pyme\". En relación con la condición de ser un grupo, se destaca que la abrumadora mayoría de los contratos, específicamente 3854 de ellos, corresponden a entidades contratantes que no son consideradas grupos. En contraste, solo se identificaron 7 contratos asociados a entidades que cumplen con la condición de ser un grupo. Respecto a la condición de ser una pequeña o mediana empresa (PYME), se observa que 3626 contratos no están vinculados a PYME, mientras que 235 contratos sí se adjudicaron a este tipo de entidades.\n",
    "\n",
    "Estos resultados sugieren que, en este conjunto de datos, las entidades individuales no consideradas como grupos son predominantes como adjudicatarias de contratos. La presencia limitada de contratos asociados a grupos indica que, en términos generales, las entidades individuales son más frecuentes en comparación con las entidades que cumplen con la condición de ser grupos. Además, la mayoría de los contratos no están vinculados a PYME, subrayando la importancia de entender la diversidad de las entidades adjudicatarias en el contexto de la contratación pública."
   ]
  },
  {
   "cell_type": "markdown",
   "metadata": {},
   "source": []
  },
  {
   "cell_type": "code",
   "execution_count": 18,
   "metadata": {},
   "outputs": [
    {
     "name": "stdout",
     "output_type": "stream",
     "text": [
      "           Original    Logaritmo\n",
      "count  4.054000e+03  4054.000000\n",
      "mean   1.523399e+08    17.675548\n",
      "std    1.993911e+09     1.265194\n",
      "min    0.000000e+00     0.000000\n",
      "25%    3.000000e+07    17.216708\n",
      "50%    5.373333e+07    17.799544\n",
      "75%    8.082792e+07    18.207833\n",
      "max    1.146352e+11    25.465021\n"
     ]
    },
    {
     "name": "stderr",
     "output_type": "stream",
     "text": [
      "C:\\Users\\Usuario\\AppData\\Local\\Temp\\ipykernel_12464\\3391545066.py:2: SettingWithCopyWarning: \n",
      "A value is trying to be set on a copy of a slice from a DataFrame.\n",
      "Try using .loc[row_indexer,col_indexer] = value instead\n",
      "\n",
      "See the caveats in the documentation: https://pandas.pydata.org/pandas-docs/stable/user_guide/indexing.html#returning-a-view-versus-a-copy\n",
      "  Base_filtrada['log_valor_contrato'] = np.log1p(Base_filtrada['valor_del_contrato'])\n"
     ]
    }
   ],
   "source": [
    "#crear la base\n",
    "Base_filtrada['log_valor_contrato'] = np.log1p(Base_filtrada['valor_del_contrato'])\n",
    "\n",
    "estadisticas_descriptivas = Base_filtrada['valor_del_contrato'].describe().to_frame().join(Base_filtrada['log_valor_contrato'].describe().to_frame(), lsuffix='_Original', rsuffix='_Logaritmo')\n",
    "\n",
    "#titulos \n",
    "estadisticas_descriptivas.columns = ['Original', 'Logaritmo']\n",
    "\n",
    "print(estadisticas_descriptivas)"
   ]
  },
  {
   "cell_type": "markdown",
   "metadata": {},
   "source": [
    "Se utilizó la transformación logarítmica en el gráfico del valor de los contratos con el fin de mejorar la visualización de la distribución de datos. Esta transformación es particularmente útil dado que la variable cuenta con una amplia gama de valores y tiene la presencia de valores extremos lo que afecta significativamente la interpretación en una escala lineal."
   ]
  },
  {
   "cell_type": "code",
   "execution_count": 19,
   "metadata": {},
   "outputs": [
    {
     "data": {
      "image/png": "[encoded data removed]",
      "text/plain": [
       "<Figure size 1200x600 with 1 Axes>"
      ]
     },
     "metadata": {},
     "output_type": "display_data"
    }
   ],
   "source": [
    "\n",
    "plt.figure(figsize=(12, 6))\n",
    "\n",
    "# Histograma de Valor de los Contratos en escala logarítmica\n",
    "plt.hist((Base_filtrada['log_valor_contrato']), bins=30, color='skyblue', edgecolor='black', alpha=0.7)\n",
    "\n",
    "# Etiquetas y título\n",
    "plt.title('Histograma de Valor de los Contratos (Escala Logarítmica)', fontsize=16)\n",
    "plt.xlabel('Log(Valor del Contrato + 1)', fontsize=12)\n",
    "plt.ylabel('Frecuencia', fontsize=12)\n",
    "\n",
    "plt.grid(axis='y', linestyle='--', alpha=0.7)\n",
    "\n",
    "# Etiquetas sobre las barras\n",
    "for p in plt.gca().patches:\n",
    "    plt.gca().annotate(str(int(p.get_height())), (p.get_x() + p.get_width() / 2., p.get_height()),\n",
    "                       ha='center', va='center', xytext=(0, 10), textcoords='offset points')\n",
    "\n",
    "plt.tight_layout()\n",
    "plt.show()"
   ]
  },
  {
   "cell_type": "markdown",
   "metadata": {},
   "source": [
    "Al observar el histograma después de aplicar la transformación logarítmica a la variable 'valor_del_contrato', se nota una notable aproximación a una distribución normal. Esta transformación logarítmica ha logrado mitigar la presencia de valores extremos, permitiendo que la distribución de los datos se asemeje más a una campana simétrica típica de una distribución normal. Este patrón es respaldado por los estadísticos descriptivos obtenidos.\n",
    "\n",
    "Adicionalmente es importante resaltar la existencia de datos atípicos, estos estan distorsionando los datos dificultados su análisis, a la vez que muestran la gran diferencia en el valor de los contratos."
   ]
  },
  {
   "cell_type": "markdown",
   "metadata": {},
   "source": [
    "Con el fin de ver la relación de las variables anteriores con el valor del contrato se hará un análisis estadístico para poder comprar de manera visual los datos, después de analizar visualmente se presentará el análisis ANOVA para poder concluir si existe diferencia entre las medias de las distintas categorías de las variables categóricas "
   ]
  },
  {
   "cell_type": "code",
   "execution_count": 20,
   "metadata": {},
   "outputs": [
    {
     "name": "stdout",
     "output_type": "stream",
     "text": [
      "                  count          mean           std         min         25%  \\\n",
      "estado_contrato                                                               \n",
      "Activo            146.0  6.374116e+07  2.399270e+07  16470000.0  45100000.0   \n",
      "Cerrado           151.0  7.403442e+07  1.164830e+08   4420000.0  34765500.0   \n",
      "En ejecución     1897.0  1.224159e+08  1.060557e+09         0.0  26438040.0   \n",
      "Modificado       1546.0  2.167650e+08  3.003941e+09         0.0  31200000.0   \n",
      "cedido             37.0  7.061784e+07  3.293872e+07  14850000.0  46400000.0   \n",
      "terminado         277.0  9.800046e+07  3.062851e+08   1000000.0  30286667.0   \n",
      "\n",
      "                        50%         75%           max  \n",
      "estado_contrato                                        \n",
      "Activo           60500000.0  79200000.0  1.320000e+08  \n",
      "Cerrado          56600803.0  80892000.0  1.282576e+09  \n",
      "En ejecución     52000000.0  82166667.0  3.750255e+10  \n",
      "Modificado       55000000.0  78631357.5  1.146352e+11  \n",
      "cedido           58483333.0  88000000.0  1.558667e+08  \n",
      "terminado        50874042.0  76333333.0  3.202872e+09  \n"
     ]
    }
   ],
   "source": [
    "estadisticas_estado_contrato = Base_filtrada.groupby('estado_contrato')['valor_del_contrato'].describe()\n",
    "print(estadisticas_estado_contrato)"
   ]
  },
  {
   "cell_type": "code",
   "execution_count": 21,
   "metadata": {},
   "outputs": [
    {
     "name": "stdout",
     "output_type": "stream",
     "text": [
      "F_onewayResult(statistic=0.5657609009135229, pvalue=0.7263495261902979)\n"
     ]
    }
   ],
   "source": [
    "anova_estado_contrato = f_oneway(*[Base_filtrada[Base_filtrada['estado_contrato'] == categoria]['valor_del_contrato'] for categoria in Base_filtrada['estado_contrato'].unique()])\n",
    "print(anova_estado_contrato)"
   ]
  },
  {
   "cell_type": "markdown",
   "metadata": {},
   "source": [
    " No hay evidencia significativa para concluir que hay diferencias en los valores del contrato entre las categorías de estado de contrato"
   ]
  },
  {
   "cell_type": "code",
   "execution_count": 22,
   "metadata": {},
   "outputs": [
    {
     "name": "stdout",
     "output_type": "stream",
     "text": [
      "                                                     count          mean  \\\n",
      "justificacion_modalidad_de                                                 \n",
      "Contratos de bienes y servicios sujetos a reserva      1.0  6.702828e+07   \n",
      "Contratos o convenios Interadministrativos (con...     1.0  5.090000e+08   \n",
      "Contratos o convenios Interadministrativos (val...   100.0  1.249712e+09   \n",
      "Contratos para el desarrollo de actividades cie...     1.0  2.960000e+08   \n",
      "Decreto 092 de 2017                                    5.0  1.922349e+09   \n",
      "Ejecución de trabajos artísticos                       1.0  7.741805e+08   \n",
      "Ley 1150 de 2007                                       9.0  2.191042e+09   \n",
      "No Definido                                           11.0  8.443664e+07   \n",
      "No existe pluralidad de oferentes en el mercado       26.0  1.414662e+08   \n",
      "Prestación de servicios de salud                       4.0  7.438798e+07   \n",
      "Presupuesto inferior al 10% de la menor cuantía       46.0  1.781905e+07   \n",
      "Presupuesto menor al 10% de la Menor Cuantía          12.0  2.512074e+08   \n",
      "Proceso de licitación pública declarado desierto       1.0  7.120558e+08   \n",
      "Regla aplicable                                       13.0  1.689808e+10   \n",
      "Servicios profesionales y apoyo a la gestión        3798.0  5.632035e+07   \n",
      "Suministro de bienes y servicios de característ...    23.0  8.060361e+08   \n",
      "Urgencia manifiesta                                    2.0  3.415000e+07   \n",
      "\n",
      "                                                             std          min  \\\n",
      "justificacion_modalidad_de                                                      \n",
      "Contratos de bienes y servicios sujetos a reserva            NaN   67028280.0   \n",
      "Contratos o convenios Interadministrativos (con...           NaN  509000000.0   \n",
      "Contratos o convenios Interadministrativos (val...  1.982164e+09          0.0   \n",
      "Contratos para el desarrollo de actividades cie...           NaN  296000000.0   \n",
      "Decreto 092 de 2017                                 2.390970e+09  234546984.0   \n",
      "Ejecución de trabajos artísticos                             NaN  774180531.0   \n",
      "Ley 1150 de 2007                                    1.714059e+09   69986875.0   \n",
      "No Definido                                         4.243835e+07   17400000.0   \n",
      "No existe pluralidad de oferentes en el mercado     2.654063e+08    8691165.0   \n",
      "Prestación de servicios de salud                    1.373875e+07   59692347.0   \n",
      "Presupuesto inferior al 10% de la menor cuantía     1.048702e+07     963900.0   \n",
      "Presupuesto menor al 10% de la Menor Cuantía        2.130687e+08   26248000.0   \n",
      "Proceso de licitación pública declarado desierto             NaN  712055810.0   \n",
      "Regla aplicable                                     3.132563e+10          0.0   \n",
      "Servicios profesionales y apoyo a la gestión        3.611626e+07    1000000.0   \n",
      "Suministro de bienes y servicios de característ...  1.160311e+09   60000000.0   \n",
      "Urgencia manifiesta                                 2.616295e+06   32300000.0   \n",
      "\n",
      "                                                             25%  \\\n",
      "justificacion_modalidad_de                                         \n",
      "Contratos de bienes y servicios sujetos a reserva   6.702828e+07   \n",
      "Contratos o convenios Interadministrativos (con...  5.090000e+08   \n",
      "Contratos o convenios Interadministrativos (val...  2.000000e+08   \n",
      "Contratos para el desarrollo de actividades cie...  2.960000e+08   \n",
      "Decreto 092 de 2017                                 3.197100e+08   \n",
      "Ejecución de trabajos artísticos                    7.741805e+08   \n",
      "Ley 1150 de 2007                                    5.240439e+08   \n",
      "No Definido                                         6.263550e+07   \n",
      "No existe pluralidad de oferentes en el mercado     3.478001e+07   \n",
      "Prestación de servicios de salud                    6.463652e+07   \n",
      "Presupuesto inferior al 10% de la menor cuantía     1.030609e+07   \n",
      "Presupuesto menor al 10% de la Menor Cuantía        6.546317e+07   \n",
      "Proceso de licitación pública declarado desierto    7.120558e+08   \n",
      "Regla aplicable                                     1.575899e+09   \n",
      "Servicios profesionales y apoyo a la gestión        2.989097e+07   \n",
      "Suministro de bienes y servicios de característ...  1.150000e+08   \n",
      "Urgencia manifiesta                                 3.322500e+07   \n",
      "\n",
      "                                                             50%  \\\n",
      "justificacion_modalidad_de                                         \n",
      "Contratos de bienes y servicios sujetos a reserva   6.702828e+07   \n",
      "Contratos o convenios Interadministrativos (con...  5.090000e+08   \n",
      "Contratos o convenios Interadministrativos (val...  5.375136e+08   \n",
      "Contratos para el desarrollo de actividades cie...  2.960000e+08   \n",
      "Decreto 092 de 2017                                 4.580751e+08   \n",
      "Ejecución de trabajos artísticos                    7.741805e+08   \n",
      "Ley 1150 de 2007                                    2.250000e+09   \n",
      "No Definido                                         7.910000e+07   \n",
      "No existe pluralidad de oferentes en el mercado     4.971540e+07   \n",
      "Prestación de servicios de salud                    7.427769e+07   \n",
      "Presupuesto inferior al 10% de la menor cuantía     1.754716e+07   \n",
      "Presupuesto menor al 10% de la Menor Cuantía        1.991252e+08   \n",
      "Proceso de licitación pública declarado desierto    7.120558e+08   \n",
      "Regla aplicable                                     3.278602e+09   \n",
      "Servicios profesionales y apoyo a la gestión        5.264667e+07   \n",
      "Suministro de bienes y servicios de característ...  3.256592e+08   \n",
      "Urgencia manifiesta                                 3.415000e+07   \n",
      "\n",
      "                                                             75%           max  \n",
      "justificacion_modalidad_de                                                      \n",
      "Contratos de bienes y servicios sujetos a reserva   6.702828e+07  6.702828e+07  \n",
      "Contratos o convenios Interadministrativos (con...  5.090000e+08  5.090000e+08  \n",
      "Contratos o convenios Interadministrativos (val...  1.627104e+09  1.505328e+10  \n",
      "Contratos para el desarrollo de actividades cie...  2.960000e+08  2.960000e+08  \n",
      "Decreto 092 de 2017                                 2.885127e+09  5.714286e+09  \n",
      "Ejecución de trabajos artísticos                    7.741805e+08  7.741805e+08  \n",
      "Ley 1150 de 2007                                    3.202872e+09  5.262774e+09  \n",
      "No Definido                                         9.814800e+07  1.713600e+08  \n",
      "No existe pluralidad de oferentes en el mercado     1.189634e+08  1.101406e+09  \n",
      "Prestación de servicios de salud                    8.402915e+07  8.930422e+07  \n",
      "Presupuesto inferior al 10% de la menor cuantía     2.367277e+07  4.986879e+07  \n",
      "Presupuesto menor al 10% de la Menor Cuantía        4.101680e+08  6.327642e+08  \n",
      "Proceso de licitación pública declarado desierto    7.120558e+08  7.120558e+08  \n",
      "Regla aplicable                                     1.639284e+10  1.146352e+11  \n",
      "Servicios profesionales y apoyo a la gestión        7.778400e+07  1.000000e+09  \n",
      "Suministro de bienes y servicios de característ...  7.908609e+08  4.958832e+09  \n",
      "Urgencia manifiesta                                 3.507500e+07  3.600000e+07  \n"
     ]
    }
   ],
   "source": [
    "estadisticas_justificacion_modalidad_de = Base_filtrada.groupby('justificacion_modalidad_de')['valor_del_contrato'].describe()\n",
    "print(estadisticas_justificacion_modalidad_de)"
   ]
  },
  {
   "cell_type": "code",
   "execution_count": 23,
   "metadata": {},
   "outputs": [
    {
     "name": "stdout",
     "output_type": "stream",
     "text": [
      "F_onewayResult(statistic=79.63645467136082, pvalue=4.3135113273753625e-226)\n"
     ]
    }
   ],
   "source": [
    "anova_justificacion_modalidad_de = f_oneway(*[Base_filtrada[Base_filtrada['justificacion_modalidad_de'] == categoria]['valor_del_contrato'] for categoria in Base_filtrada['justificacion_modalidad_de'].unique()])\n",
    "print(anova_justificacion_modalidad_de)"
   ]
  },
  {
   "cell_type": "markdown",
   "metadata": {},
   "source": [
    "Dado que el valor p es muy pequeño, se puede concluir que hay diferencias significativas entre las medias de los valores del contrato para las diferentes categorías de 'justificacion_modalidad_de'. "
   ]
  },
  {
   "cell_type": "code",
   "execution_count": 24,
   "metadata": {},
   "outputs": [
    {
     "name": "stdout",
     "output_type": "stream",
     "text": [
      "                        count          mean           std         min  \\\n",
      "tipodocproveedor                                                        \n",
      "Cédula de Ciudadanía   3771.0  5.597821e+07  3.210541e+07   1000000.0   \n",
      "Cédula de Extranjería     6.0  3.751356e+07  2.831082e+07   7245000.0   \n",
      "No Definido             266.0  1.477052e+09  7.661747e+09         0.0   \n",
      "Sin Descripcion           9.0  1.470113e+09  2.118102e+09  14500000.0   \n",
      "Tarjeta de Identidad      2.0  7.020000e+07  7.184206e+07  19400000.0   \n",
      "\n",
      "                               25%          50%           75%           max  \n",
      "tipodocproveedor                                                             \n",
      "Cédula de Ciudadanía   30000000.00   52767000.0  7.773600e+07  1.828823e+08  \n",
      "Cédula de Extranjería  16236249.75   31921500.0  5.696700e+07  7.767000e+07  \n",
      "No Definido            29277500.00  152988499.0  7.179602e+08  1.146352e+11  \n",
      "Sin Descripcion        79100000.00  393716720.0  1.571191e+09  5.262774e+09  \n",
      "Tarjeta de Identidad   44800002.50   70200005.0  9.560001e+07  1.210000e+08  \n"
     ]
    }
   ],
   "source": [
    "estadisticas_tipodocproveedor = Base_filtrada.groupby('tipodocproveedor')['valor_del_contrato'].describe()\n",
    "print(estadisticas_tipodocproveedor)"
   ]
  },
  {
   "cell_type": "code",
   "execution_count": 25,
   "metadata": {},
   "outputs": [
    {
     "name": "stdout",
     "output_type": "stream",
     "text": [
      "F_onewayResult(statistic=33.590227583234466, pvalue=1.3098725284848128e-27)\n"
     ]
    }
   ],
   "source": [
    "anova_tipodocproveedor = f_oneway(*[Base_filtrada[Base_filtrada['tipodocproveedor'] == categoria]['valor_del_contrato'] for categoria in Base_filtrada['tipodocproveedor'].unique()])\n",
    "print(anova_tipodocproveedor)"
   ]
  },
  {
   "cell_type": "markdown",
   "metadata": {},
   "source": [
    "Dado que el valor p es muy pequeño, se puede concluir que hay diferencias significativas entre las medias de los valores del contrato para las diferentes categorías de 'tipodocproveedor'."
   ]
  },
  {
   "cell_type": "code",
   "execution_count": 26,
   "metadata": {},
   "outputs": [
    {
     "name": "stdout",
     "output_type": "stream",
     "text": [
      "                                   count          mean           std  \\\n",
      "proveedor_adjudicado                                                   \n",
      "1022395551                           3.0  4.733567e+07  1.346807e+07   \n",
      "1031161821                           2.0  3.554933e+07  1.248279e+06   \n",
      "4ESAS                                1.0  2.250000e+09           NaN   \n",
      "899999061-9                          1.0  2.100000e+07           NaN   \n",
      "94151597                             1.0  1.280000e+07           NaN   \n",
      "...                                  ...           ...           ...   \n",
      "Álvaro Iván Revelo Méndez            1.0  5.600000e+07           NaN   \n",
      "Ángela Liliana Rodríguez González    4.0  5.771285e+07  1.094605e+07   \n",
      "Ángela María Amaya Arias             1.0  5.760000e+07           NaN   \n",
      "Ángela María Bedoya Blandón          4.0  7.274408e+07  8.560425e+06   \n",
      "Óscar David Petro Díaz               2.0  4.081678e+07  4.343782e+07   \n",
      "\n",
      "                                            min           25%           50%  \\\n",
      "proveedor_adjudicado                                                          \n",
      "1022395551                         3.200000e+07  4.238350e+07  5.276700e+07   \n",
      "1031161821                         3.466667e+07  3.510800e+07  3.554933e+07   \n",
      "4ESAS                              2.250000e+09  2.250000e+09  2.250000e+09   \n",
      "899999061-9                        2.100000e+07  2.100000e+07  2.100000e+07   \n",
      "94151597                           1.280000e+07  1.280000e+07  1.280000e+07   \n",
      "...                                         ...           ...           ...   \n",
      "Álvaro Iván Revelo Méndez          5.600000e+07  5.600000e+07  5.600000e+07   \n",
      "Ángela Liliana Rodríguez González  4.500000e+07  5.037300e+07  5.931117e+07   \n",
      "Ángela María Amaya Arias           5.760000e+07  5.760000e+07  5.760000e+07   \n",
      "Ángela María Bedoya Blandón        6.300000e+07  6.975000e+07  7.205000e+07   \n",
      "Óscar David Petro Díaz             1.010160e+07  2.545919e+07  4.081678e+07   \n",
      "\n",
      "                                            75%           max  \n",
      "proveedor_adjudicado                                           \n",
      "1022395551                         5.500350e+07  5.724000e+07  \n",
      "1031161821                         3.599067e+07  3.643200e+07  \n",
      "4ESAS                              2.250000e+09  2.250000e+09  \n",
      "899999061-9                        2.100000e+07  2.100000e+07  \n",
      "94151597                           1.280000e+07  1.280000e+07  \n",
      "...                                         ...           ...  \n",
      "Álvaro Iván Revelo Méndez          5.600000e+07  5.600000e+07  \n",
      "Ángela Liliana Rodríguez González  6.665102e+07  6.722906e+07  \n",
      "Ángela María Amaya Arias           5.760000e+07  5.760000e+07  \n",
      "Ángela María Bedoya Blandón        7.504408e+07  8.387633e+07  \n",
      "Óscar David Petro Díaz             5.617437e+07  7.153196e+07  \n",
      "\n",
      "[2069 rows x 8 columns]\n"
     ]
    }
   ],
   "source": [
    "estadisticas_proveedor_adjudicado = Base_filtrada.groupby('proveedor_adjudicado')['valor_del_contrato'].describe()\n",
    "print(estadisticas_proveedor_adjudicado)"
   ]
  },
  {
   "cell_type": "code",
   "execution_count": 27,
   "metadata": {},
   "outputs": [
    {
     "name": "stdout",
     "output_type": "stream",
     "text": [
      "F_onewayResult(statistic=0.45341551473936237, pvalue=0.9999999999999999)\n"
     ]
    }
   ],
   "source": [
    "anova_proveedor_adjudicado = f_oneway(*[Base_filtrada[Base_filtrada['proveedor_adjudicado'] == categoria]['valor_del_contrato'] for categoria in Base_filtrada['proveedor_adjudicado'].unique()])\n",
    "print(anova_proveedor_adjudicado)"
   ]
  },
  {
   "cell_type": "markdown",
   "metadata": {},
   "source": [
    "Dado que el valor p es muy cercano a 1, no hay evidencia significativa para afirmar que hay diferencias significativas entre las medias de los valores del contrato para las diferentes categorías de 'proveedor_adjudicado'."
   ]
  },
  {
   "cell_type": "code",
   "execution_count": 28,
   "metadata": {},
   "outputs": [
    {
     "name": "stdout",
     "output_type": "stream",
     "text": [
      "           count          mean           std          min          25%  \\\n",
      "es_grupo                                                                 \n",
      "No        4047.0  1.507616e+08  1.994869e+09          0.0   29911937.5   \n",
      "Si           7.0  1.064874e+09  1.043496e+09  390091802.0  457263210.5   \n",
      "\n",
      "                  50%           75%           max  \n",
      "es_grupo                                           \n",
      "No         53728920.0  8.059338e+07  1.146352e+11  \n",
      "Si        632764166.0  1.135595e+09  3.245542e+09  \n"
     ]
    }
   ],
   "source": [
    "estadisticas_es_grupo = Base_filtrada.groupby('es_grupo')['valor_del_contrato'].describe()\n",
    "print(estadisticas_es_grupo)"
   ]
  },
  {
   "cell_type": "code",
   "execution_count": 29,
   "metadata": {},
   "outputs": [
    {
     "name": "stdout",
     "output_type": "stream",
     "text": [
      "F_onewayResult(statistic=1.4688750092733471, pvalue=0.22559394190173032)\n"
     ]
    }
   ],
   "source": [
    "anova_es_grupo = f_oneway(*[Base_filtrada[Base_filtrada['es_grupo'] == categoria]['valor_del_contrato'] for categoria in Base_filtrada['es_grupo'].unique()])\n",
    "print(anova_es_grupo)"
   ]
  },
  {
   "cell_type": "markdown",
   "metadata": {},
   "source": [
    "Dado que el valor p es mayor que 0.05, no hay evidencia significativa para afirmar que hay diferencias significativas entre las medias de los valores del contrato para las diferentes categorías de 'es_grupo'."
   ]
  },
  {
   "cell_type": "code",
   "execution_count": 30,
   "metadata": {},
   "outputs": [
    {
     "name": "stdout",
     "output_type": "stream",
     "text": [
      "          count          mean           std       min         25%         50%  \\\n",
      "es_pyme                                                                         \n",
      "No       3814.0  1.509970e+08  2.051522e+09       0.0  30000000.0  53580600.0   \n",
      "Si        240.0  1.736817e+08  5.230494e+08  963900.0  24214506.0  58670400.0   \n",
      "\n",
      "                 75%           max  \n",
      "es_pyme                             \n",
      "No       80441366.75  1.146352e+11  \n",
      "Si       87462281.25  3.900000e+09  \n"
     ]
    }
   ],
   "source": [
    "estadisticas_es_pyme = Base_filtrada.groupby('es_pyme')['valor_del_contrato'].describe()\n",
    "print(estadisticas_es_pyme)"
   ]
  },
  {
   "cell_type": "code",
   "execution_count": 31,
   "metadata": {},
   "outputs": [
    {
     "name": "stdout",
     "output_type": "stream",
     "text": [
      "F_onewayResult(statistic=0.029218669186609796, pvalue=0.8642836519632708)\n"
     ]
    }
   ],
   "source": [
    "anova_es_pyme = f_oneway(*[Base_filtrada[Base_filtrada['es_pyme'] == categoria]['valor_del_contrato'] for categoria in Base_filtrada['es_pyme'].unique()])\n",
    "print(anova_es_pyme)"
   ]
  },
  {
   "cell_type": "markdown",
   "metadata": {},
   "source": [
    "Dado que el valor p es mayor que 0.05, no hay evidencia significativa para afirmar que hay diferencias significativas entre las medias de los valores del contrato para las diferentes categorías de 'es_pyme'."
   ]
  },
  {
   "cell_type": "markdown",
   "metadata": {},
   "source": [
    "Las conclusiones indican que no hay diferencias significativas en las medias de los valores del contrato para las categorías de 'justificacion_modalidad_de' y 'tipodocproveedor'. \n",
    "En las demás variables se evidencia que si hay una diferencia significativa entre las subcategorías de las variables y el valor del contrato.\n",
    "\n",
    "Basado en lo anterior se interpreta que la detección de diferencias de medias en las categorías de la base de datos puede ser indicativa de variaciones en la asignación de recursos y contratos. Esto podría tener implicaciones importantes para la transparencia, ya que se podrían identificar patrones que sugieran posibles sesgos o irregularidades en la distribución de contratos.\n",
    "\n",
    "Por otra parte, como oportunidad de mejora al existir esta diferencia el ministerio puede apuntar a áreas específicas de la gestión de recursos que podrían ser más eficientes o requerir mejoras. Esto permitiría al ministerio focalizar sus esfuerzos en optimizar los procesos y asignar recursos de manera más efectiva. Ademas, al identificar patrones en la asignación de contratos podrian señalar áreas de mejora que no se alinean con los objetivos ambientales."
   ]
  },
  {
   "cell_type": "code",
   "execution_count": 32,
   "metadata": {},
   "outputs": [
    {
     "name": "stdout",
     "output_type": "stream",
     "text": [
      "valor_del_contrato                                                                                                       1.000000\n",
      "estado_contrato_Cerrado                                                                                                 -0.007726\n",
      "estado_contrato_En ejecución                                                                                            -0.014076\n",
      "estado_contrato_Modificado                                                                                               0.025371\n",
      "estado_contrato_cedido                                                                                                  -0.003934\n",
      "estado_contrato_terminado                                                                                               -0.007381\n",
      "justificacion_modalidad_de_Contratos o convenios Interadministrativos (con valor)                                        0.002810\n",
      "justificacion_modalidad_de_Contratos o convenios Interadministrativos (valor cero)                                       0.087535\n",
      "justificacion_modalidad_de_Contratos para el desarrollo de actividades científicas y tecnológicas                        0.001132\n",
      "justificacion_modalidad_de_Decreto 092 de 2017                                                                           0.031199\n",
      "justificacion_modalidad_de_Ejecución de trabajos artísticos                                                              0.004899\n",
      "justificacion_modalidad_de_Ley 1150 de 2007                                                                              0.048235\n",
      "justificacion_modalidad_de_No Definido                                                                                  -0.001777\n",
      "justificacion_modalidad_de_No existe pluralidad de oferentes en el mercado                                              -0.000438\n",
      "justificacion_modalidad_de_Prestación de servicios de salud                                                             -0.001229\n",
      "justificacion_modalidad_de_Presupuesto inferior al 10% de la menor cuantía                                              -0.007229\n",
      "justificacion_modalidad_de_Presupuesto menor al 10% de la Menor Cuantía                                                  0.002702\n",
      "justificacion_modalidad_de_Proceso de licitación pública declarado desierto                                              0.004410\n",
      "justificacion_modalidad_de_Regla aplicable                                                                               0.476408\n",
      "justificacion_modalidad_de_Servicios profesionales y apoyo a la gestión                                                 -0.185509\n",
      "justificacion_modalidad_de_Suministro de bienes y servicios de características técnicas uniformes y común utilización    0.024767\n",
      "justificacion_modalidad_de_Urgencia manifiesta                                                                          -0.001317\n",
      "tipodocproveedor_Cédula de Extranjería                                                                                  -0.002217\n",
      "tipodocproveedor_No Definido                                                                                             0.176078\n",
      "tipodocproveedor_Sin Descripcion                                                                                         0.031178\n",
      "tipodocproveedor_Tarjeta de Identidad                                                                                   -0.000915\n",
      "es_grupo_Si                                                                                                              0.019036\n",
      "es_pyme_Si                                                                                                               0.002685\n",
      "Name: valor_del_contrato, dtype: float64\n"
     ]
    }
   ],
   "source": [
    "columnas_interes = ['valor_del_contrato', 'estado_contrato', 'justificacion_modalidad_de', 'tipodocproveedor', 'es_grupo', 'es_pyme']\n",
    "datos_interes = Base_filtrada[columnas_interes]\n",
    "\n",
    "# Convierte dummy\n",
    "datos_interes = pd.get_dummies(datos_interes, columns=['estado_contrato', 'justificacion_modalidad_de', 'tipodocproveedor', 'es_grupo', 'es_pyme'], drop_first=True)\n",
    "\n",
    "# Calcula la matriz de correlación\n",
    "matriz_correlacion = datos_interes.corr()\n",
    "\n",
    "#correlacion respecto al valor del contrato \n",
    "correlacion = matriz_correlacion['valor_del_contrato']\n",
    "\n",
    "print(correlacion)"
   ]
  },
  {
   "cell_type": "markdown",
   "metadata": {},
   "source": [
    "En resumen, en base a las correlaciones calculadas, el estado del contrato, el tipo de documento del proveedor, Es Grupo y Es PYME no están fuertemente relacionadas con el valor del contrato. Sin embargo, respecto a la justificaciones de modalidad la variable reglas específicas presenta una correlacion lijera con el valor del contrato.\n",
    "\n",
    " Esto podría indicar que otros factores no contemplados en el análisis actual podrían estar influyendo significativamente en los montos de los contratos. Por lo que puede haber aspectos específicos de la contratación pública que aún no se hayan explorado y que podrían estar afectando los resultados. Sin emabargo, por el tipo de ministerio se interpreta que mantiene procesos de adquisición flexibles y adaptables, la variabilidad en los valores de contrato podría estar relacionada con la capacidad de ajustar las estrategias de contratación según las necesidades específicas de cada caso, siendo concientes de los cambios en el ámbito ambiental y en el desarrollo sostenible.\n",
    "\n"
   ]
  },
  {
   "cell_type": "markdown",
   "metadata": {},
   "source": [
    "\n",
    "La ausencia de una correlación aparente entre las variables, pero la presencia de diferencias significativas en las medias entre grupos según las pruebas de ANOVA, sugiere una dinámica interesante en la relación entre las variables en el contexto de la contratación pública del Ministerio de Ambiente y Desarrollo Sostenible de Colombia.\n",
    "\n",
    "La falta de correlación lineal directa puede indicar que la relación entre las variables no sigue un patrón simple y directo. Es decir, no se puede predecir el valor de una variable a partir de la otra utilizando una relación lineal. Sin embargo, la existencia de diferencias sistemáticas en las medias entre grupos indica que, a pesar de la falta de relación lineal, aún hay patrones distintivos asociados a las categorías de las variables analizadas."
   ]
  },
  {
   "cell_type": "markdown",
   "metadata": {},
   "source": [
    "## Conclusiones"
   ]
  },
  {
   "cell_type": "markdown",
   "metadata": {},
   "source": [
    "\n",
    "\n",
    "Considerando el análisis detallado de la base de datos de contratación pública del Ministerio de Ambiente y Desarrollo Sostenible entre los años 2020 y 2023, se observa una serie de patrones y tendencias que proporcionan una perspectiva rica sobre las prácticas contractuales durante este período.\n",
    "\n",
    "En primer lugar, la preeminencia de la \"Contratación directa\" destaca como una estrategia eficaz en la gestión de recursos y tiempos, sugiriendo una optimización en la ejecución de proyectos. Este enfoque puede indicar la capacidad del Ministerio para tomar decisiones ágiles y directas en la contratación, lo que resulta fundamental para la eficiencia en la implementación de sus iniciativas.\n",
    "\n",
    "La frecuencia destacada de la categoría \"Prestación de servicios\" resalta su importancia central en las actividades ministeriales. Este énfasis puede sugerir la externalización de funciones especializadas, lo que podría derivarse de la necesidad de acceso a conocimientos especializados o recursos específicos para alcanzar los objetivos del Ministerio.\n",
    "\n",
    "Al explorar las justificaciones asociadas a las modalidades de contratación, se identifica una preferencia por servicios profesionales y acuerdos interadministrativos. Esta elección estratégica proporciona una visión más detallada de las necesidades específicas del Ministerio y cómo busca satisfacerlas mediante la colaboración con proveedores externos, posiblemente para obtener experiencia técnica o recursos especializados.\n",
    "\n",
    "La variabilidad temporal en la cantidad de contratos revela adaptaciones a condiciones económicas y de salud pública a lo largo del tiempo. Esta flexibilidad destaca la capacidad del Ministerio para ajustar sus estrategias de contratación en respuesta a circunstancias cambiantes, enfatizando la importancia de considerar el contexto temporal al interpretar los patrones contractuales.\n",
    "\n",
    "En términos de duración de los contratos, la preferencia por acuerdos de mediano a largo plazo sugiere una visión estratégica que busca estabilidad y compromiso continuo con los proveedores. La identificación de diversos proveedores, tanto del propio Ministerio como de entidades especializadas, revela una red de relaciones que contribuye a la implementación exitosa de proyectos, enfatizando la importancia de establecer colaboraciones sólidas.\n",
    "\n",
    "El análisis de las condiciones de \"es_grupo\" y \"es_pyme\" destaca la predominancia de entidades individuales no consideradas grupos y una representación limitada de pequeñas y medianas empresas en la adjudicación de contratos. Estos hallazgos indican posibles desafíos para la participación de empresas más pequeñas en las oportunidades de contratación pública y subrayan áreas potenciales para la promoción de la inclusión de este sector en futuros procesos de contratación. En este sentido, podría ser beneficioso explorar estrategias para fomentar la participación de PYMEs, contribuyendo así a una mayor diversidad y competencia en los procesos de contratación del Ministerio.\n",
    "\n",
    "El enfoque integral adoptado en el análisis destaca la necesidad de una exploración más profunda de las diferencias sistemáticas entre grupos. La consideración de posibles relaciones no lineales entre las variables, interacciones complejas y la posible influencia de variables no contempladas es esencial para comprender la complejidad de los patrones contractuales identificados.\n",
    "\n",
    "Estos hallazgos no solo proporcionan una visión más completa de las prácticas contractuales del Ministerio, sino que también establecen una base sólida para la mejora continua. La optimización de la gestión de recursos y la toma de decisiones estratégicas pueden beneficiarse de un entendimiento más preciso de los factores que contribuyen a las diferencias sistemáticas en los valores de contrato. Al abordar estas complejidades, el Ministerio puede fortalecer sus prácticas contractuales, adaptándolas de manera más efectiva a las demandas cambiantes y a los objetivos específicos de la cartera ministerial en el ámbito del ambiente y desarrollo sostenible."
   ]
  }
 ],
 "metadata": {
  "kernelspec": {
   "display_name": "Python 3",
   "language": "python",
   "name": "python3"
  },
  "language_info": {
   "codemirror_mode": {
    "name": "ipython",
    "version": 3
   },
   "file_extension": ".py",
   "mimetype": "text/x-python",
   "name": "python",
   "nbconvert_exporter": "python",
   "pygments_lexer": "ipython3",
   "version": "3.11.4"
  }
 },
 "nbformat": 4,
 "nbformat_minor": 2
}
